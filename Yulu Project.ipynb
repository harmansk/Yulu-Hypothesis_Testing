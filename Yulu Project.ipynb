{
 "cells": [
  {
   "cell_type": "markdown",
   "id": "8ee07f54",
   "metadata": {},
   "source": [
    "## Problem Statement\n",
    "- Yulu is India’s leading micro-mobility service provider, which offers unique vehicles for the daily commute.\n",
    "- Yulu has recently suffered considerable dips in its revenues. They have contracted a consulting company to understand the factors on which the demand for these shared electric cycles depends. Specifically, they want to understand the factors affecting the demand for these shared electric cycles in the Indian market.\n",
    "\n",
    "- The company wants to know: Which variables are significant in predicting the demand for shared electric cycles in the Indian market? How well those variables describe the electric cycle demands"
   ]
  },
  {
   "cell_type": "markdown",
   "id": "fb966b28",
   "metadata": {},
   "source": [
    "## Column Profiling:\n",
    "\n",
    "- datetime: datetime\n",
    "- season: season (1: spring, 2: summer, 3: fall, 4: winter)\n",
    "- holiday: whether day is a holiday or not \n",
    "- workingday: if day is neither weekend nor holiday is 1, otherwise is 0.\n",
    "- weather:\n",
    "\n",
    "    1: Clear, Few clouds, partly cloudy, partly cloudy\n",
    "    \n",
    "    2: Mist + Cloudy, Mist + Broken clouds, Mist + Few clouds, Mist\n",
    "    \n",
    "    3: Light Snow, Light Rain + Thunderstorm + Scattered clouds, Light Rain + Scattered clouds\n",
    "    \n",
    "    4: Heavy Rain + Ice Pallets + Thunderstorm + Mist, Snow + Fog\n",
    "- temp: temperature in Celsius\n",
    "- atemp: feeling temperature in Celsius\n",
    "- humidity: humidity\n",
    "- windspeed: wind speed\n",
    "- casual: count of casual users\n",
    "- registered: count of registered users\n",
    "- count: count of total rental bikes including both casual and registered"
   ]
  },
  {
   "cell_type": "code",
   "execution_count": 180,
   "id": "5cfddaca",
   "metadata": {},
   "outputs": [],
   "source": [
    "import numpy as np\n",
    "import pandas as pd \n",
    "import seaborn as sns\n",
    "import matplotlib.pyplot as plt "
   ]
  },
  {
   "cell_type": "code",
   "execution_count": 181,
   "id": "593de95d",
   "metadata": {},
   "outputs": [],
   "source": [
    "from scipy.stats import ttest_ind ,chi2_contingency , f_oneway , kruskal ,shapiro , levene\n",
    "from statsmodels.graphics.gofplots import qqplot"
   ]
  },
  {
   "cell_type": "code",
   "execution_count": 182,
   "id": "5ab83872",
   "metadata": {},
   "outputs": [
    {
     "data": {
      "text/html": [
       "<div>\n",
       "<style scoped>\n",
       "    .dataframe tbody tr th:only-of-type {\n",
       "        vertical-align: middle;\n",
       "    }\n",
       "\n",
       "    .dataframe tbody tr th {\n",
       "        vertical-align: top;\n",
       "    }\n",
       "\n",
       "    .dataframe thead th {\n",
       "        text-align: right;\n",
       "    }\n",
       "</style>\n",
       "<table border=\"1\" class=\"dataframe\">\n",
       "  <thead>\n",
       "    <tr style=\"text-align: right;\">\n",
       "      <th></th>\n",
       "      <th>datetime</th>\n",
       "      <th>season</th>\n",
       "      <th>holiday</th>\n",
       "      <th>workingday</th>\n",
       "      <th>weather</th>\n",
       "      <th>temp</th>\n",
       "      <th>atemp</th>\n",
       "      <th>humidity</th>\n",
       "      <th>windspeed</th>\n",
       "      <th>casual</th>\n",
       "      <th>registered</th>\n",
       "      <th>count</th>\n",
       "    </tr>\n",
       "  </thead>\n",
       "  <tbody>\n",
       "    <tr>\n",
       "      <th>0</th>\n",
       "      <td>2011-01-01 00:00:00</td>\n",
       "      <td>1</td>\n",
       "      <td>0</td>\n",
       "      <td>0</td>\n",
       "      <td>1</td>\n",
       "      <td>9.84</td>\n",
       "      <td>14.395</td>\n",
       "      <td>81</td>\n",
       "      <td>0.0</td>\n",
       "      <td>3</td>\n",
       "      <td>13</td>\n",
       "      <td>16</td>\n",
       "    </tr>\n",
       "    <tr>\n",
       "      <th>1</th>\n",
       "      <td>2011-01-01 01:00:00</td>\n",
       "      <td>1</td>\n",
       "      <td>0</td>\n",
       "      <td>0</td>\n",
       "      <td>1</td>\n",
       "      <td>9.02</td>\n",
       "      <td>13.635</td>\n",
       "      <td>80</td>\n",
       "      <td>0.0</td>\n",
       "      <td>8</td>\n",
       "      <td>32</td>\n",
       "      <td>40</td>\n",
       "    </tr>\n",
       "    <tr>\n",
       "      <th>2</th>\n",
       "      <td>2011-01-01 02:00:00</td>\n",
       "      <td>1</td>\n",
       "      <td>0</td>\n",
       "      <td>0</td>\n",
       "      <td>1</td>\n",
       "      <td>9.02</td>\n",
       "      <td>13.635</td>\n",
       "      <td>80</td>\n",
       "      <td>0.0</td>\n",
       "      <td>5</td>\n",
       "      <td>27</td>\n",
       "      <td>32</td>\n",
       "    </tr>\n",
       "    <tr>\n",
       "      <th>3</th>\n",
       "      <td>2011-01-01 03:00:00</td>\n",
       "      <td>1</td>\n",
       "      <td>0</td>\n",
       "      <td>0</td>\n",
       "      <td>1</td>\n",
       "      <td>9.84</td>\n",
       "      <td>14.395</td>\n",
       "      <td>75</td>\n",
       "      <td>0.0</td>\n",
       "      <td>3</td>\n",
       "      <td>10</td>\n",
       "      <td>13</td>\n",
       "    </tr>\n",
       "    <tr>\n",
       "      <th>4</th>\n",
       "      <td>2011-01-01 04:00:00</td>\n",
       "      <td>1</td>\n",
       "      <td>0</td>\n",
       "      <td>0</td>\n",
       "      <td>1</td>\n",
       "      <td>9.84</td>\n",
       "      <td>14.395</td>\n",
       "      <td>75</td>\n",
       "      <td>0.0</td>\n",
       "      <td>0</td>\n",
       "      <td>1</td>\n",
       "      <td>1</td>\n",
       "    </tr>\n",
       "  </tbody>\n",
       "</table>\n",
       "</div>"
      ],
      "text/plain": [
       "              datetime  season  holiday  workingday  weather  temp   atemp  \\\n",
       "0  2011-01-01 00:00:00       1        0           0        1  9.84  14.395   \n",
       "1  2011-01-01 01:00:00       1        0           0        1  9.02  13.635   \n",
       "2  2011-01-01 02:00:00       1        0           0        1  9.02  13.635   \n",
       "3  2011-01-01 03:00:00       1        0           0        1  9.84  14.395   \n",
       "4  2011-01-01 04:00:00       1        0           0        1  9.84  14.395   \n",
       "\n",
       "   humidity  windspeed  casual  registered  count  \n",
       "0        81        0.0       3          13     16  \n",
       "1        80        0.0       8          32     40  \n",
       "2        80        0.0       5          27     32  \n",
       "3        75        0.0       3          10     13  \n",
       "4        75        0.0       0           1      1  "
      ]
     },
     "execution_count": 182,
     "metadata": {},
     "output_type": "execute_result"
    }
   ],
   "source": [
    "data = pd.read_csv('yulu.csv')\n",
    "data.head()"
   ]
  },
  {
   "cell_type": "code",
   "execution_count": 183,
   "id": "7392114a",
   "metadata": {},
   "outputs": [
    {
     "name": "stdout",
     "output_type": "stream",
     "text": [
      "<class 'pandas.core.frame.DataFrame'>\n",
      "RangeIndex: 10886 entries, 0 to 10885\n",
      "Data columns (total 12 columns):\n",
      " #   Column      Non-Null Count  Dtype  \n",
      "---  ------      --------------  -----  \n",
      " 0   datetime    10886 non-null  object \n",
      " 1   season      10886 non-null  int64  \n",
      " 2   holiday     10886 non-null  int64  \n",
      " 3   workingday  10886 non-null  int64  \n",
      " 4   weather     10886 non-null  int64  \n",
      " 5   temp        10886 non-null  float64\n",
      " 6   atemp       10886 non-null  float64\n",
      " 7   humidity    10886 non-null  int64  \n",
      " 8   windspeed   10886 non-null  float64\n",
      " 9   casual      10886 non-null  int64  \n",
      " 10  registered  10886 non-null  int64  \n",
      " 11  count       10886 non-null  int64  \n",
      "dtypes: float64(3), int64(8), object(1)\n",
      "memory usage: 1020.7+ KB\n"
     ]
    }
   ],
   "source": [
    "data.info()"
   ]
  },
  {
   "cell_type": "code",
   "execution_count": 184,
   "id": "e40b9b2b",
   "metadata": {},
   "outputs": [],
   "source": [
    "# Converting data type of 'datetime' column to Date Time Format\n",
    "data['datetime']= pd.to_datetime(data['datetime'])"
   ]
  },
  {
   "cell_type": "code",
   "execution_count": 185,
   "id": "86ba8ce3",
   "metadata": {},
   "outputs": [
    {
     "data": {
      "text/html": [
       "<div>\n",
       "<style scoped>\n",
       "    .dataframe tbody tr th:only-of-type {\n",
       "        vertical-align: middle;\n",
       "    }\n",
       "\n",
       "    .dataframe tbody tr th {\n",
       "        vertical-align: top;\n",
       "    }\n",
       "\n",
       "    .dataframe thead th {\n",
       "        text-align: right;\n",
       "    }\n",
       "</style>\n",
       "<table border=\"1\" class=\"dataframe\">\n",
       "  <thead>\n",
       "    <tr style=\"text-align: right;\">\n",
       "      <th></th>\n",
       "      <th>datetime</th>\n",
       "      <th>season</th>\n",
       "      <th>holiday</th>\n",
       "      <th>workingday</th>\n",
       "      <th>weather</th>\n",
       "      <th>temp</th>\n",
       "      <th>atemp</th>\n",
       "      <th>humidity</th>\n",
       "      <th>windspeed</th>\n",
       "      <th>casual</th>\n",
       "      <th>registered</th>\n",
       "      <th>count</th>\n",
       "    </tr>\n",
       "  </thead>\n",
       "  <tbody>\n",
       "    <tr>\n",
       "      <th>0</th>\n",
       "      <td>2011-01-01 00:00:00</td>\n",
       "      <td>1</td>\n",
       "      <td>0</td>\n",
       "      <td>0</td>\n",
       "      <td>1</td>\n",
       "      <td>9.84</td>\n",
       "      <td>14.395</td>\n",
       "      <td>81</td>\n",
       "      <td>0.0</td>\n",
       "      <td>3</td>\n",
       "      <td>13</td>\n",
       "      <td>16</td>\n",
       "    </tr>\n",
       "    <tr>\n",
       "      <th>1</th>\n",
       "      <td>2011-01-01 01:00:00</td>\n",
       "      <td>1</td>\n",
       "      <td>0</td>\n",
       "      <td>0</td>\n",
       "      <td>1</td>\n",
       "      <td>9.02</td>\n",
       "      <td>13.635</td>\n",
       "      <td>80</td>\n",
       "      <td>0.0</td>\n",
       "      <td>8</td>\n",
       "      <td>32</td>\n",
       "      <td>40</td>\n",
       "    </tr>\n",
       "    <tr>\n",
       "      <th>2</th>\n",
       "      <td>2011-01-01 02:00:00</td>\n",
       "      <td>1</td>\n",
       "      <td>0</td>\n",
       "      <td>0</td>\n",
       "      <td>1</td>\n",
       "      <td>9.02</td>\n",
       "      <td>13.635</td>\n",
       "      <td>80</td>\n",
       "      <td>0.0</td>\n",
       "      <td>5</td>\n",
       "      <td>27</td>\n",
       "      <td>32</td>\n",
       "    </tr>\n",
       "    <tr>\n",
       "      <th>3</th>\n",
       "      <td>2011-01-01 03:00:00</td>\n",
       "      <td>1</td>\n",
       "      <td>0</td>\n",
       "      <td>0</td>\n",
       "      <td>1</td>\n",
       "      <td>9.84</td>\n",
       "      <td>14.395</td>\n",
       "      <td>75</td>\n",
       "      <td>0.0</td>\n",
       "      <td>3</td>\n",
       "      <td>10</td>\n",
       "      <td>13</td>\n",
       "    </tr>\n",
       "    <tr>\n",
       "      <th>4</th>\n",
       "      <td>2011-01-01 04:00:00</td>\n",
       "      <td>1</td>\n",
       "      <td>0</td>\n",
       "      <td>0</td>\n",
       "      <td>1</td>\n",
       "      <td>9.84</td>\n",
       "      <td>14.395</td>\n",
       "      <td>75</td>\n",
       "      <td>0.0</td>\n",
       "      <td>0</td>\n",
       "      <td>1</td>\n",
       "      <td>1</td>\n",
       "    </tr>\n",
       "  </tbody>\n",
       "</table>\n",
       "</div>"
      ],
      "text/plain": [
       "             datetime  season  holiday  workingday  weather  temp   atemp  \\\n",
       "0 2011-01-01 00:00:00       1        0           0        1  9.84  14.395   \n",
       "1 2011-01-01 01:00:00       1        0           0        1  9.02  13.635   \n",
       "2 2011-01-01 02:00:00       1        0           0        1  9.02  13.635   \n",
       "3 2011-01-01 03:00:00       1        0           0        1  9.84  14.395   \n",
       "4 2011-01-01 04:00:00       1        0           0        1  9.84  14.395   \n",
       "\n",
       "   humidity  windspeed  casual  registered  count  \n",
       "0        81        0.0       3          13     16  \n",
       "1        80        0.0       8          32     40  \n",
       "2        80        0.0       5          27     32  \n",
       "3        75        0.0       3          10     13  \n",
       "4        75        0.0       0           1      1  "
      ]
     },
     "execution_count": 185,
     "metadata": {},
     "output_type": "execute_result"
    }
   ],
   "source": [
    "data.head()"
   ]
  },
  {
   "cell_type": "code",
   "execution_count": 186,
   "id": "09234c7e",
   "metadata": {},
   "outputs": [
    {
     "name": "stdout",
     "output_type": "stream",
     "text": [
      "<class 'pandas.core.frame.DataFrame'>\n",
      "RangeIndex: 10886 entries, 0 to 10885\n",
      "Data columns (total 12 columns):\n",
      " #   Column      Non-Null Count  Dtype         \n",
      "---  ------      --------------  -----         \n",
      " 0   datetime    10886 non-null  datetime64[ns]\n",
      " 1   season      10886 non-null  int64         \n",
      " 2   holiday     10886 non-null  int64         \n",
      " 3   workingday  10886 non-null  int64         \n",
      " 4   weather     10886 non-null  int64         \n",
      " 5   temp        10886 non-null  float64       \n",
      " 6   atemp       10886 non-null  float64       \n",
      " 7   humidity    10886 non-null  int64         \n",
      " 8   windspeed   10886 non-null  float64       \n",
      " 9   casual      10886 non-null  int64         \n",
      " 10  registered  10886 non-null  int64         \n",
      " 11  count       10886 non-null  int64         \n",
      "dtypes: datetime64[ns](1), float64(3), int64(8)\n",
      "memory usage: 1020.7 KB\n"
     ]
    }
   ],
   "source": [
    "data.info()"
   ]
  },
  {
   "cell_type": "code",
   "execution_count": 187,
   "id": "45446db8",
   "metadata": {},
   "outputs": [
    {
     "data": {
      "text/plain": [
       "(10886, 12)"
      ]
     },
     "execution_count": 187,
     "metadata": {},
     "output_type": "execute_result"
    }
   ],
   "source": [
    "data.shape"
   ]
  },
  {
   "cell_type": "code",
   "execution_count": 188,
   "id": "e47ef543",
   "metadata": {},
   "outputs": [
    {
     "data": {
      "text/plain": [
       "datetime      0\n",
       "season        0\n",
       "holiday       0\n",
       "workingday    0\n",
       "weather       0\n",
       "temp          0\n",
       "atemp         0\n",
       "humidity      0\n",
       "windspeed     0\n",
       "casual        0\n",
       "registered    0\n",
       "count         0\n",
       "dtype: int64"
      ]
     },
     "execution_count": 188,
     "metadata": {},
     "output_type": "execute_result"
    }
   ],
   "source": [
    "# Count of Null Values in each Column\n",
    "data.isna().sum()"
   ]
  },
  {
   "cell_type": "code",
   "execution_count": 189,
   "id": "8b0d5241",
   "metadata": {},
   "outputs": [
    {
     "data": {
      "text/plain": [
       "0    10575\n",
       "1      311\n",
       "Name: holiday, dtype: int64"
      ]
     },
     "execution_count": 189,
     "metadata": {},
     "output_type": "execute_result"
    }
   ],
   "source": [
    "# Unique values and its count \n",
    "data['holiday'].value_counts() # categorical Variable "
   ]
  },
  {
   "cell_type": "code",
   "execution_count": 190,
   "id": "6ee84aa7",
   "metadata": {},
   "outputs": [
    {
     "data": {
      "text/plain": [
       "1    7412\n",
       "0    3474\n",
       "Name: workingday, dtype: int64"
      ]
     },
     "execution_count": 190,
     "metadata": {},
     "output_type": "execute_result"
    }
   ],
   "source": [
    "# Unique values and its count \n",
    "data['workingday'].value_counts() # categorical Variable "
   ]
  },
  {
   "cell_type": "code",
   "execution_count": 191,
   "id": "6f63c60f",
   "metadata": {},
   "outputs": [
    {
     "data": {
      "text/plain": [
       "4    2734\n",
       "2    2733\n",
       "3    2733\n",
       "1    2686\n",
       "Name: season, dtype: int64"
      ]
     },
     "execution_count": 191,
     "metadata": {},
     "output_type": "execute_result"
    }
   ],
   "source": [
    "# Unique values and its count \n",
    "data['season'].value_counts() # categorical Variable "
   ]
  },
  {
   "cell_type": "code",
   "execution_count": 192,
   "id": "302fca8d",
   "metadata": {},
   "outputs": [
    {
     "data": {
      "text/plain": [
       "1    7192\n",
       "2    2834\n",
       "3     859\n",
       "4       1\n",
       "Name: weather, dtype: int64"
      ]
     },
     "execution_count": 192,
     "metadata": {},
     "output_type": "execute_result"
    }
   ],
   "source": [
    "# Unique values and its count \n",
    "data['weather'].value_counts() # categorical Variable "
   ]
  },
  {
   "cell_type": "code",
   "execution_count": 193,
   "id": "b4d44ef6",
   "metadata": {},
   "outputs": [
    {
     "name": "stdout",
     "output_type": "stream",
     "text": [
      "<class 'pandas.core.frame.DataFrame'>\n",
      "RangeIndex: 10886 entries, 0 to 10885\n",
      "Data columns (total 12 columns):\n",
      " #   Column      Non-Null Count  Dtype         \n",
      "---  ------      --------------  -----         \n",
      " 0   datetime    10886 non-null  datetime64[ns]\n",
      " 1   season      10886 non-null  object        \n",
      " 2   holiday     10886 non-null  object        \n",
      " 3   workingday  10886 non-null  object        \n",
      " 4   weather     10886 non-null  object        \n",
      " 5   temp        10886 non-null  float64       \n",
      " 6   atemp       10886 non-null  float64       \n",
      " 7   humidity    10886 non-null  int64         \n",
      " 8   windspeed   10886 non-null  float64       \n",
      " 9   casual      10886 non-null  int64         \n",
      " 10  registered  10886 non-null  int64         \n",
      " 11  count       10886 non-null  int64         \n",
      "dtypes: datetime64[ns](1), float64(3), int64(4), object(4)\n",
      "memory usage: 1020.7+ KB\n"
     ]
    }
   ],
   "source": [
    "# Converting Holiday , Workingday,Season and Weather to Object (as its Categorical)\n",
    "col_convert = ['holiday','season','workingday','weather'] \n",
    "for i in col_convert :\n",
    "    data[i]=data[i].astype('object')\n",
    "\n",
    "data.info()"
   ]
  },
  {
   "cell_type": "code",
   "execution_count": 232,
   "id": "62fd63d6",
   "metadata": {},
   "outputs": [
    {
     "data": {
      "image/png": "[encoded data removed]",
      "text/plain": [
       "<Figure size 1080x1080 with 4 Axes>"
      ]
     },
     "metadata": {
      "needs_background": "light"
     },
     "output_type": "display_data"
    }
   ],
   "source": [
    "# Countplots of all the categorical variables\n",
    "\n",
    "fig,axis = plt.subplots(nrows = 2 ,ncols = 2,figsize=(15,15))\n",
    "\n",
    "ax= sns.countplot(x=data['holiday'], ax= axis[0,0])\n",
    "axis[0,0].set_title(\"Count Plot for Holiday\")\n",
    "\n",
    "for i in ax.containers:\n",
    " ax.bar_label(i)\n",
    "\n",
    "ax = sns.countplot(x=data['season'], ax= axis[0,1])\n",
    "axis[0,1].set_title(\"Count Plot for Season\")\n",
    "\n",
    "for i in ax.containers:\n",
    " ax.bar_label(i)\n",
    "\n",
    "ax=sns.countplot(x=data['workingday'], ax= axis[1,0])\n",
    "axis[1,0].set_title(\"Count Plot for WorkingDay\")\n",
    "\n",
    "for i in ax.containers:\n",
    " ax.bar_label(i)\n",
    "\n",
    "ax = sns.countplot(x=data['weather'], ax= axis[1,1])\n",
    "axis[1,1].set_title(\"Count Plot for Weather\")\n",
    "\n",
    "for i in ax.containers:\n",
    " ax.bar_label(i)\n",
    "\n",
    "\n",
    "plt.show()"
   ]
  },
  {
   "cell_type": "markdown",
   "id": "804f2aa4",
   "metadata": {},
   "source": [
    "### Observation :\n",
    "- There are 10886 rows and 12 columns in data\n",
    "- There is no null values in any column\n",
    "- Holiday , Workingday,Season and Weather are Categorical Columns : Independent Columns\n",
    "- Count is Numerical Column : Dependet Columns (Target Column)"
   ]
  },
  {
   "cell_type": "code",
   "execution_count": 194,
   "id": "8bb87b12",
   "metadata": {},
   "outputs": [
    {
     "data": {
      "text/html": [
       "<div>\n",
       "<style scoped>\n",
       "    .dataframe tbody tr th:only-of-type {\n",
       "        vertical-align: middle;\n",
       "    }\n",
       "\n",
       "    .dataframe tbody tr th {\n",
       "        vertical-align: top;\n",
       "    }\n",
       "\n",
       "    .dataframe thead th {\n",
       "        text-align: right;\n",
       "    }\n",
       "</style>\n",
       "<table border=\"1\" class=\"dataframe\">\n",
       "  <thead>\n",
       "    <tr style=\"text-align: right;\">\n",
       "      <th></th>\n",
       "      <th>temp</th>\n",
       "      <th>atemp</th>\n",
       "      <th>humidity</th>\n",
       "      <th>windspeed</th>\n",
       "      <th>casual</th>\n",
       "      <th>registered</th>\n",
       "      <th>count</th>\n",
       "    </tr>\n",
       "  </thead>\n",
       "  <tbody>\n",
       "    <tr>\n",
       "      <th>temp</th>\n",
       "      <td>1.000000</td>\n",
       "      <td>0.984948</td>\n",
       "      <td>-0.064949</td>\n",
       "      <td>-0.017852</td>\n",
       "      <td>0.467097</td>\n",
       "      <td>0.318571</td>\n",
       "      <td>0.394454</td>\n",
       "    </tr>\n",
       "    <tr>\n",
       "      <th>atemp</th>\n",
       "      <td>0.984948</td>\n",
       "      <td>1.000000</td>\n",
       "      <td>-0.043536</td>\n",
       "      <td>-0.057473</td>\n",
       "      <td>0.462067</td>\n",
       "      <td>0.314635</td>\n",
       "      <td>0.389784</td>\n",
       "    </tr>\n",
       "    <tr>\n",
       "      <th>humidity</th>\n",
       "      <td>-0.064949</td>\n",
       "      <td>-0.043536</td>\n",
       "      <td>1.000000</td>\n",
       "      <td>-0.318607</td>\n",
       "      <td>-0.348187</td>\n",
       "      <td>-0.265458</td>\n",
       "      <td>-0.317371</td>\n",
       "    </tr>\n",
       "    <tr>\n",
       "      <th>windspeed</th>\n",
       "      <td>-0.017852</td>\n",
       "      <td>-0.057473</td>\n",
       "      <td>-0.318607</td>\n",
       "      <td>1.000000</td>\n",
       "      <td>0.092276</td>\n",
       "      <td>0.091052</td>\n",
       "      <td>0.101369</td>\n",
       "    </tr>\n",
       "    <tr>\n",
       "      <th>casual</th>\n",
       "      <td>0.467097</td>\n",
       "      <td>0.462067</td>\n",
       "      <td>-0.348187</td>\n",
       "      <td>0.092276</td>\n",
       "      <td>1.000000</td>\n",
       "      <td>0.497250</td>\n",
       "      <td>0.690414</td>\n",
       "    </tr>\n",
       "    <tr>\n",
       "      <th>registered</th>\n",
       "      <td>0.318571</td>\n",
       "      <td>0.314635</td>\n",
       "      <td>-0.265458</td>\n",
       "      <td>0.091052</td>\n",
       "      <td>0.497250</td>\n",
       "      <td>1.000000</td>\n",
       "      <td>0.970948</td>\n",
       "    </tr>\n",
       "    <tr>\n",
       "      <th>count</th>\n",
       "      <td>0.394454</td>\n",
       "      <td>0.389784</td>\n",
       "      <td>-0.317371</td>\n",
       "      <td>0.101369</td>\n",
       "      <td>0.690414</td>\n",
       "      <td>0.970948</td>\n",
       "      <td>1.000000</td>\n",
       "    </tr>\n",
       "  </tbody>\n",
       "</table>\n",
       "</div>"
      ],
      "text/plain": [
       "                temp     atemp  humidity  windspeed    casual  registered  \\\n",
       "temp        1.000000  0.984948 -0.064949  -0.017852  0.467097    0.318571   \n",
       "atemp       0.984948  1.000000 -0.043536  -0.057473  0.462067    0.314635   \n",
       "humidity   -0.064949 -0.043536  1.000000  -0.318607 -0.348187   -0.265458   \n",
       "windspeed  -0.017852 -0.057473 -0.318607   1.000000  0.092276    0.091052   \n",
       "casual      0.467097  0.462067 -0.348187   0.092276  1.000000    0.497250   \n",
       "registered  0.318571  0.314635 -0.265458   0.091052  0.497250    1.000000   \n",
       "count       0.394454  0.389784 -0.317371   0.101369  0.690414    0.970948   \n",
       "\n",
       "               count  \n",
       "temp        0.394454  \n",
       "atemp       0.389784  \n",
       "humidity   -0.317371  \n",
       "windspeed   0.101369  \n",
       "casual      0.690414  \n",
       "registered  0.970948  \n",
       "count       1.000000  "
      ]
     },
     "execution_count": 194,
     "metadata": {},
     "output_type": "execute_result"
    }
   ],
   "source": [
    "# Correaltion Coefficient between different columns\n",
    "data.corr()"
   ]
  },
  {
   "cell_type": "code",
   "execution_count": 237,
   "id": "9c990520",
   "metadata": {},
   "outputs": [
    {
     "data": {
      "image/png": "[encoded data removed]",
      "text/plain": [
       "<Figure size 1080x1080 with 4 Axes>"
      ]
     },
     "metadata": {
      "needs_background": "light"
     },
     "output_type": "display_data"
    }
   ],
   "source": [
    "# We can see relation between Categorical Varibale and Count from bar plot also \n",
    "\n",
    "fig,axis = plt.subplots(nrows = 2 ,ncols = 2,figsize=(15,15))\n",
    "\n",
    "ax = sns.barplot(x='weather',y='count' ,data =data , estimator = np.mean, ax= axis[0,0])\n",
    "axis[0,0].set_title(\"Bar Plot for Weather-Count\")\n",
    "\n",
    "for i in ax.containers:\n",
    " ax.bar_label(i)\n",
    "\n",
    "ax = sns.barplot(x='season',y='count' ,data =data , estimator = np.mean, ax= axis[0,1])\n",
    "axis[0,1].set_title(\"Bar Plot for Season-Count\")\n",
    "\n",
    "for i in ax.containers:\n",
    " ax.bar_label(i)\n",
    "\n",
    "ax=sns.barplot(x='holiday',y='count' ,data =data , estimator = np.mean, ax= axis[1,0])\n",
    "axis[1,0].set_title(\"Bar Plot for Holiday-Count\")\n",
    "\n",
    "for i in ax.containers:\n",
    " ax.bar_label(i)\n",
    "\n",
    "ax = sns.barplot(x='workingday',y='count' ,data =data , estimator = np.mean, ax= axis[1,1])\n",
    "axis[1,1].set_title(\"Bar Plot for WorkingDay-Count\")\n",
    "\n",
    "for i in ax.containers:\n",
    " ax.bar_label(i)\n",
    "\n",
    "\n",
    "\n",
    "plt.show()"
   ]
  },
  {
   "cell_type": "markdown",
   "id": "398b801e",
   "metadata": {},
   "source": [
    "- For weather and season we can see that different weather and season has significant effect on count of rented bikes .\n",
    "- For holiday and workingday we can see that it has very less effect on count of rented bikes ."
   ]
  },
  {
   "cell_type": "markdown",
   "id": "46667b6d",
   "metadata": {},
   "source": [
    "### Checking number of outliers in Each Column"
   ]
  },
  {
   "cell_type": "code",
   "execution_count": 195,
   "id": "480354c2",
   "metadata": {},
   "outputs": [
    {
     "data": {
      "text/html": [
       "<div>\n",
       "<style scoped>\n",
       "    .dataframe tbody tr th:only-of-type {\n",
       "        vertical-align: middle;\n",
       "    }\n",
       "\n",
       "    .dataframe tbody tr th {\n",
       "        vertical-align: top;\n",
       "    }\n",
       "\n",
       "    .dataframe thead th {\n",
       "        text-align: right;\n",
       "    }\n",
       "</style>\n",
       "<table border=\"1\" class=\"dataframe\">\n",
       "  <thead>\n",
       "    <tr style=\"text-align: right;\">\n",
       "      <th></th>\n",
       "      <th>temp</th>\n",
       "      <th>atemp</th>\n",
       "      <th>humidity</th>\n",
       "      <th>windspeed</th>\n",
       "      <th>casual</th>\n",
       "      <th>registered</th>\n",
       "      <th>count</th>\n",
       "    </tr>\n",
       "  </thead>\n",
       "  <tbody>\n",
       "    <tr>\n",
       "      <th>count</th>\n",
       "      <td>10886.00000</td>\n",
       "      <td>10886.000000</td>\n",
       "      <td>10886.000000</td>\n",
       "      <td>10886.000000</td>\n",
       "      <td>10886.000000</td>\n",
       "      <td>10886.000000</td>\n",
       "      <td>10886.000000</td>\n",
       "    </tr>\n",
       "    <tr>\n",
       "      <th>mean</th>\n",
       "      <td>20.23086</td>\n",
       "      <td>23.655084</td>\n",
       "      <td>61.886460</td>\n",
       "      <td>12.799395</td>\n",
       "      <td>36.021955</td>\n",
       "      <td>155.552177</td>\n",
       "      <td>191.574132</td>\n",
       "    </tr>\n",
       "    <tr>\n",
       "      <th>std</th>\n",
       "      <td>7.79159</td>\n",
       "      <td>8.474601</td>\n",
       "      <td>19.245033</td>\n",
       "      <td>8.164537</td>\n",
       "      <td>49.960477</td>\n",
       "      <td>151.039033</td>\n",
       "      <td>181.144454</td>\n",
       "    </tr>\n",
       "    <tr>\n",
       "      <th>min</th>\n",
       "      <td>0.82000</td>\n",
       "      <td>0.760000</td>\n",
       "      <td>0.000000</td>\n",
       "      <td>0.000000</td>\n",
       "      <td>0.000000</td>\n",
       "      <td>0.000000</td>\n",
       "      <td>1.000000</td>\n",
       "    </tr>\n",
       "    <tr>\n",
       "      <th>25%</th>\n",
       "      <td>13.94000</td>\n",
       "      <td>16.665000</td>\n",
       "      <td>47.000000</td>\n",
       "      <td>7.001500</td>\n",
       "      <td>4.000000</td>\n",
       "      <td>36.000000</td>\n",
       "      <td>42.000000</td>\n",
       "    </tr>\n",
       "    <tr>\n",
       "      <th>50%</th>\n",
       "      <td>20.50000</td>\n",
       "      <td>24.240000</td>\n",
       "      <td>62.000000</td>\n",
       "      <td>12.998000</td>\n",
       "      <td>17.000000</td>\n",
       "      <td>118.000000</td>\n",
       "      <td>145.000000</td>\n",
       "    </tr>\n",
       "    <tr>\n",
       "      <th>75%</th>\n",
       "      <td>26.24000</td>\n",
       "      <td>31.060000</td>\n",
       "      <td>77.000000</td>\n",
       "      <td>16.997900</td>\n",
       "      <td>49.000000</td>\n",
       "      <td>222.000000</td>\n",
       "      <td>284.000000</td>\n",
       "    </tr>\n",
       "    <tr>\n",
       "      <th>max</th>\n",
       "      <td>41.00000</td>\n",
       "      <td>45.455000</td>\n",
       "      <td>100.000000</td>\n",
       "      <td>56.996900</td>\n",
       "      <td>367.000000</td>\n",
       "      <td>886.000000</td>\n",
       "      <td>977.000000</td>\n",
       "    </tr>\n",
       "  </tbody>\n",
       "</table>\n",
       "</div>"
      ],
      "text/plain": [
       "              temp         atemp      humidity     windspeed        casual  \\\n",
       "count  10886.00000  10886.000000  10886.000000  10886.000000  10886.000000   \n",
       "mean      20.23086     23.655084     61.886460     12.799395     36.021955   \n",
       "std        7.79159      8.474601     19.245033      8.164537     49.960477   \n",
       "min        0.82000      0.760000      0.000000      0.000000      0.000000   \n",
       "25%       13.94000     16.665000     47.000000      7.001500      4.000000   \n",
       "50%       20.50000     24.240000     62.000000     12.998000     17.000000   \n",
       "75%       26.24000     31.060000     77.000000     16.997900     49.000000   \n",
       "max       41.00000     45.455000    100.000000     56.996900    367.000000   \n",
       "\n",
       "         registered         count  \n",
       "count  10886.000000  10886.000000  \n",
       "mean     155.552177    191.574132  \n",
       "std      151.039033    181.144454  \n",
       "min        0.000000      1.000000  \n",
       "25%       36.000000     42.000000  \n",
       "50%      118.000000    145.000000  \n",
       "75%      222.000000    284.000000  \n",
       "max      886.000000    977.000000  "
      ]
     },
     "execution_count": 195,
     "metadata": {},
     "output_type": "execute_result"
    }
   ],
   "source": [
    "# Summary of data\n",
    "data_describe = data.describe()\n",
    "data_describe"
   ]
  },
  {
   "cell_type": "code",
   "execution_count": 196,
   "id": "fa788d60",
   "metadata": {},
   "outputs": [
    {
     "data": {
      "text/html": [
       "<div>\n",
       "<style scoped>\n",
       "    .dataframe tbody tr th:only-of-type {\n",
       "        vertical-align: middle;\n",
       "    }\n",
       "\n",
       "    .dataframe tbody tr th {\n",
       "        vertical-align: top;\n",
       "    }\n",
       "\n",
       "    .dataframe thead th {\n",
       "        text-align: right;\n",
       "    }\n",
       "</style>\n",
       "<table border=\"1\" class=\"dataframe\">\n",
       "  <thead>\n",
       "    <tr style=\"text-align: right;\">\n",
       "      <th></th>\n",
       "      <th>temp</th>\n",
       "      <th>atemp</th>\n",
       "      <th>humidity</th>\n",
       "      <th>windspeed</th>\n",
       "      <th>casual</th>\n",
       "      <th>registered</th>\n",
       "      <th>count</th>\n",
       "    </tr>\n",
       "  </thead>\n",
       "  <tbody>\n",
       "    <tr>\n",
       "      <th>count</th>\n",
       "      <td>10886.00000</td>\n",
       "      <td>10886.000000</td>\n",
       "      <td>10886.000000</td>\n",
       "      <td>10886.000000</td>\n",
       "      <td>10886.000000</td>\n",
       "      <td>10886.000000</td>\n",
       "      <td>10886.000000</td>\n",
       "    </tr>\n",
       "    <tr>\n",
       "      <th>mean</th>\n",
       "      <td>20.23086</td>\n",
       "      <td>23.655084</td>\n",
       "      <td>61.886460</td>\n",
       "      <td>12.799395</td>\n",
       "      <td>36.021955</td>\n",
       "      <td>155.552177</td>\n",
       "      <td>191.574132</td>\n",
       "    </tr>\n",
       "    <tr>\n",
       "      <th>std</th>\n",
       "      <td>7.79159</td>\n",
       "      <td>8.474601</td>\n",
       "      <td>19.245033</td>\n",
       "      <td>8.164537</td>\n",
       "      <td>49.960477</td>\n",
       "      <td>151.039033</td>\n",
       "      <td>181.144454</td>\n",
       "    </tr>\n",
       "    <tr>\n",
       "      <th>min</th>\n",
       "      <td>0.82000</td>\n",
       "      <td>0.760000</td>\n",
       "      <td>0.000000</td>\n",
       "      <td>0.000000</td>\n",
       "      <td>0.000000</td>\n",
       "      <td>0.000000</td>\n",
       "      <td>1.000000</td>\n",
       "    </tr>\n",
       "    <tr>\n",
       "      <th>25%</th>\n",
       "      <td>13.94000</td>\n",
       "      <td>16.665000</td>\n",
       "      <td>47.000000</td>\n",
       "      <td>7.001500</td>\n",
       "      <td>4.000000</td>\n",
       "      <td>36.000000</td>\n",
       "      <td>42.000000</td>\n",
       "    </tr>\n",
       "    <tr>\n",
       "      <th>50%</th>\n",
       "      <td>20.50000</td>\n",
       "      <td>24.240000</td>\n",
       "      <td>62.000000</td>\n",
       "      <td>12.998000</td>\n",
       "      <td>17.000000</td>\n",
       "      <td>118.000000</td>\n",
       "      <td>145.000000</td>\n",
       "    </tr>\n",
       "    <tr>\n",
       "      <th>75%</th>\n",
       "      <td>26.24000</td>\n",
       "      <td>31.060000</td>\n",
       "      <td>77.000000</td>\n",
       "      <td>16.997900</td>\n",
       "      <td>49.000000</td>\n",
       "      <td>222.000000</td>\n",
       "      <td>284.000000</td>\n",
       "    </tr>\n",
       "    <tr>\n",
       "      <th>max</th>\n",
       "      <td>41.00000</td>\n",
       "      <td>45.455000</td>\n",
       "      <td>100.000000</td>\n",
       "      <td>56.996900</td>\n",
       "      <td>367.000000</td>\n",
       "      <td>886.000000</td>\n",
       "      <td>977.000000</td>\n",
       "    </tr>\n",
       "    <tr>\n",
       "      <th>IQR</th>\n",
       "      <td>12.30000</td>\n",
       "      <td>14.395000</td>\n",
       "      <td>30.000000</td>\n",
       "      <td>9.996400</td>\n",
       "      <td>45.000000</td>\n",
       "      <td>186.000000</td>\n",
       "      <td>242.000000</td>\n",
       "    </tr>\n",
       "  </tbody>\n",
       "</table>\n",
       "</div>"
      ],
      "text/plain": [
       "              temp         atemp      humidity     windspeed        casual  \\\n",
       "count  10886.00000  10886.000000  10886.000000  10886.000000  10886.000000   \n",
       "mean      20.23086     23.655084     61.886460     12.799395     36.021955   \n",
       "std        7.79159      8.474601     19.245033      8.164537     49.960477   \n",
       "min        0.82000      0.760000      0.000000      0.000000      0.000000   \n",
       "25%       13.94000     16.665000     47.000000      7.001500      4.000000   \n",
       "50%       20.50000     24.240000     62.000000     12.998000     17.000000   \n",
       "75%       26.24000     31.060000     77.000000     16.997900     49.000000   \n",
       "max       41.00000     45.455000    100.000000     56.996900    367.000000   \n",
       "IQR       12.30000     14.395000     30.000000      9.996400     45.000000   \n",
       "\n",
       "         registered         count  \n",
       "count  10886.000000  10886.000000  \n",
       "mean     155.552177    191.574132  \n",
       "std      151.039033    181.144454  \n",
       "min        0.000000      1.000000  \n",
       "25%       36.000000     42.000000  \n",
       "50%      118.000000    145.000000  \n",
       "75%      222.000000    284.000000  \n",
       "max      886.000000    977.000000  \n",
       "IQR      186.000000    242.000000  "
      ]
     },
     "execution_count": 196,
     "metadata": {},
     "output_type": "execute_result"
    }
   ],
   "source": [
    "data_describe.loc['IQR',:] = data_describe.loc['75%',:] - data_describe.loc['25%',:]\n",
    "data_describe\n"
   ]
  },
  {
   "cell_type": "code",
   "execution_count": 197,
   "id": "926293d9",
   "metadata": {},
   "outputs": [
    {
     "data": {
      "text/html": [
       "<div>\n",
       "<style scoped>\n",
       "    .dataframe tbody tr th:only-of-type {\n",
       "        vertical-align: middle;\n",
       "    }\n",
       "\n",
       "    .dataframe tbody tr th {\n",
       "        vertical-align: top;\n",
       "    }\n",
       "\n",
       "    .dataframe thead th {\n",
       "        text-align: right;\n",
       "    }\n",
       "</style>\n",
       "<table border=\"1\" class=\"dataframe\">\n",
       "  <thead>\n",
       "    <tr style=\"text-align: right;\">\n",
       "      <th></th>\n",
       "      <th>temp</th>\n",
       "      <th>atemp</th>\n",
       "      <th>humidity</th>\n",
       "      <th>windspeed</th>\n",
       "      <th>casual</th>\n",
       "      <th>registered</th>\n",
       "      <th>count</th>\n",
       "    </tr>\n",
       "  </thead>\n",
       "  <tbody>\n",
       "    <tr>\n",
       "      <th>count</th>\n",
       "      <td>10886.00000</td>\n",
       "      <td>10886.000000</td>\n",
       "      <td>10886.000000</td>\n",
       "      <td>10886.000000</td>\n",
       "      <td>10886.000000</td>\n",
       "      <td>10886.000000</td>\n",
       "      <td>10886.000000</td>\n",
       "    </tr>\n",
       "    <tr>\n",
       "      <th>mean</th>\n",
       "      <td>20.23086</td>\n",
       "      <td>23.655084</td>\n",
       "      <td>61.886460</td>\n",
       "      <td>12.799395</td>\n",
       "      <td>36.021955</td>\n",
       "      <td>155.552177</td>\n",
       "      <td>191.574132</td>\n",
       "    </tr>\n",
       "    <tr>\n",
       "      <th>std</th>\n",
       "      <td>7.79159</td>\n",
       "      <td>8.474601</td>\n",
       "      <td>19.245033</td>\n",
       "      <td>8.164537</td>\n",
       "      <td>49.960477</td>\n",
       "      <td>151.039033</td>\n",
       "      <td>181.144454</td>\n",
       "    </tr>\n",
       "    <tr>\n",
       "      <th>min</th>\n",
       "      <td>0.82000</td>\n",
       "      <td>0.760000</td>\n",
       "      <td>0.000000</td>\n",
       "      <td>0.000000</td>\n",
       "      <td>0.000000</td>\n",
       "      <td>0.000000</td>\n",
       "      <td>1.000000</td>\n",
       "    </tr>\n",
       "    <tr>\n",
       "      <th>25%</th>\n",
       "      <td>13.94000</td>\n",
       "      <td>16.665000</td>\n",
       "      <td>47.000000</td>\n",
       "      <td>7.001500</td>\n",
       "      <td>4.000000</td>\n",
       "      <td>36.000000</td>\n",
       "      <td>42.000000</td>\n",
       "    </tr>\n",
       "    <tr>\n",
       "      <th>50%</th>\n",
       "      <td>20.50000</td>\n",
       "      <td>24.240000</td>\n",
       "      <td>62.000000</td>\n",
       "      <td>12.998000</td>\n",
       "      <td>17.000000</td>\n",
       "      <td>118.000000</td>\n",
       "      <td>145.000000</td>\n",
       "    </tr>\n",
       "    <tr>\n",
       "      <th>75%</th>\n",
       "      <td>26.24000</td>\n",
       "      <td>31.060000</td>\n",
       "      <td>77.000000</td>\n",
       "      <td>16.997900</td>\n",
       "      <td>49.000000</td>\n",
       "      <td>222.000000</td>\n",
       "      <td>284.000000</td>\n",
       "    </tr>\n",
       "    <tr>\n",
       "      <th>max</th>\n",
       "      <td>41.00000</td>\n",
       "      <td>45.455000</td>\n",
       "      <td>100.000000</td>\n",
       "      <td>56.996900</td>\n",
       "      <td>367.000000</td>\n",
       "      <td>886.000000</td>\n",
       "      <td>977.000000</td>\n",
       "    </tr>\n",
       "    <tr>\n",
       "      <th>IQR</th>\n",
       "      <td>12.30000</td>\n",
       "      <td>14.395000</td>\n",
       "      <td>30.000000</td>\n",
       "      <td>9.996400</td>\n",
       "      <td>45.000000</td>\n",
       "      <td>186.000000</td>\n",
       "      <td>242.000000</td>\n",
       "    </tr>\n",
       "    <tr>\n",
       "      <th>UW</th>\n",
       "      <td>44.69000</td>\n",
       "      <td>52.652500</td>\n",
       "      <td>122.000000</td>\n",
       "      <td>31.992500</td>\n",
       "      <td>116.500000</td>\n",
       "      <td>501.000000</td>\n",
       "      <td>647.000000</td>\n",
       "    </tr>\n",
       "    <tr>\n",
       "      <th>LW</th>\n",
       "      <td>-4.51000</td>\n",
       "      <td>-4.927500</td>\n",
       "      <td>2.000000</td>\n",
       "      <td>-7.993100</td>\n",
       "      <td>-63.500000</td>\n",
       "      <td>-243.000000</td>\n",
       "      <td>-321.000000</td>\n",
       "    </tr>\n",
       "  </tbody>\n",
       "</table>\n",
       "</div>"
      ],
      "text/plain": [
       "              temp         atemp      humidity     windspeed        casual  \\\n",
       "count  10886.00000  10886.000000  10886.000000  10886.000000  10886.000000   \n",
       "mean      20.23086     23.655084     61.886460     12.799395     36.021955   \n",
       "std        7.79159      8.474601     19.245033      8.164537     49.960477   \n",
       "min        0.82000      0.760000      0.000000      0.000000      0.000000   \n",
       "25%       13.94000     16.665000     47.000000      7.001500      4.000000   \n",
       "50%       20.50000     24.240000     62.000000     12.998000     17.000000   \n",
       "75%       26.24000     31.060000     77.000000     16.997900     49.000000   \n",
       "max       41.00000     45.455000    100.000000     56.996900    367.000000   \n",
       "IQR       12.30000     14.395000     30.000000      9.996400     45.000000   \n",
       "UW        44.69000     52.652500    122.000000     31.992500    116.500000   \n",
       "LW        -4.51000     -4.927500      2.000000     -7.993100    -63.500000   \n",
       "\n",
       "         registered         count  \n",
       "count  10886.000000  10886.000000  \n",
       "mean     155.552177    191.574132  \n",
       "std      151.039033    181.144454  \n",
       "min        0.000000      1.000000  \n",
       "25%       36.000000     42.000000  \n",
       "50%      118.000000    145.000000  \n",
       "75%      222.000000    284.000000  \n",
       "max      886.000000    977.000000  \n",
       "IQR      186.000000    242.000000  \n",
       "UW       501.000000    647.000000  \n",
       "LW      -243.000000   -321.000000  "
      ]
     },
     "execution_count": 197,
     "metadata": {},
     "output_type": "execute_result"
    }
   ],
   "source": [
    "data_describe.loc['UW',:] = data_describe.loc['75%',:] + 1.5* data_describe.loc['IQR',:]\n",
    "data_describe.loc['LW',:] = data_describe.loc['25%',:] - 1.5* data_describe.loc['IQR',:]\n",
    "data_describe"
   ]
  },
  {
   "cell_type": "code",
   "execution_count": 198,
   "id": "9643c832",
   "metadata": {},
   "outputs": [],
   "source": [
    "# Creating a new row in data_describe to hold number of outlier present in the column\n",
    "for i in data_describe.keys():\n",
    "    data_describe.loc['Count_Outliers',i] = data[(data[i] > data_describe.loc['UW',i]) | \n",
    "                                                 (data[i] < data_describe.loc['LW',i])].shape[0]"
   ]
  },
  {
   "cell_type": "code",
   "execution_count": 199,
   "id": "b9b62202",
   "metadata": {},
   "outputs": [
    {
     "data": {
      "text/html": [
       "<div>\n",
       "<style scoped>\n",
       "    .dataframe tbody tr th:only-of-type {\n",
       "        vertical-align: middle;\n",
       "    }\n",
       "\n",
       "    .dataframe tbody tr th {\n",
       "        vertical-align: top;\n",
       "    }\n",
       "\n",
       "    .dataframe thead th {\n",
       "        text-align: right;\n",
       "    }\n",
       "</style>\n",
       "<table border=\"1\" class=\"dataframe\">\n",
       "  <thead>\n",
       "    <tr style=\"text-align: right;\">\n",
       "      <th></th>\n",
       "      <th>temp</th>\n",
       "      <th>atemp</th>\n",
       "      <th>humidity</th>\n",
       "      <th>windspeed</th>\n",
       "      <th>casual</th>\n",
       "      <th>registered</th>\n",
       "      <th>count</th>\n",
       "    </tr>\n",
       "  </thead>\n",
       "  <tbody>\n",
       "    <tr>\n",
       "      <th>count</th>\n",
       "      <td>10886.00000</td>\n",
       "      <td>10886.000000</td>\n",
       "      <td>10886.000000</td>\n",
       "      <td>10886.000000</td>\n",
       "      <td>10886.000000</td>\n",
       "      <td>10886.000000</td>\n",
       "      <td>10886.000000</td>\n",
       "    </tr>\n",
       "    <tr>\n",
       "      <th>mean</th>\n",
       "      <td>20.23086</td>\n",
       "      <td>23.655084</td>\n",
       "      <td>61.886460</td>\n",
       "      <td>12.799395</td>\n",
       "      <td>36.021955</td>\n",
       "      <td>155.552177</td>\n",
       "      <td>191.574132</td>\n",
       "    </tr>\n",
       "    <tr>\n",
       "      <th>std</th>\n",
       "      <td>7.79159</td>\n",
       "      <td>8.474601</td>\n",
       "      <td>19.245033</td>\n",
       "      <td>8.164537</td>\n",
       "      <td>49.960477</td>\n",
       "      <td>151.039033</td>\n",
       "      <td>181.144454</td>\n",
       "    </tr>\n",
       "    <tr>\n",
       "      <th>min</th>\n",
       "      <td>0.82000</td>\n",
       "      <td>0.760000</td>\n",
       "      <td>0.000000</td>\n",
       "      <td>0.000000</td>\n",
       "      <td>0.000000</td>\n",
       "      <td>0.000000</td>\n",
       "      <td>1.000000</td>\n",
       "    </tr>\n",
       "    <tr>\n",
       "      <th>25%</th>\n",
       "      <td>13.94000</td>\n",
       "      <td>16.665000</td>\n",
       "      <td>47.000000</td>\n",
       "      <td>7.001500</td>\n",
       "      <td>4.000000</td>\n",
       "      <td>36.000000</td>\n",
       "      <td>42.000000</td>\n",
       "    </tr>\n",
       "    <tr>\n",
       "      <th>50%</th>\n",
       "      <td>20.50000</td>\n",
       "      <td>24.240000</td>\n",
       "      <td>62.000000</td>\n",
       "      <td>12.998000</td>\n",
       "      <td>17.000000</td>\n",
       "      <td>118.000000</td>\n",
       "      <td>145.000000</td>\n",
       "    </tr>\n",
       "    <tr>\n",
       "      <th>75%</th>\n",
       "      <td>26.24000</td>\n",
       "      <td>31.060000</td>\n",
       "      <td>77.000000</td>\n",
       "      <td>16.997900</td>\n",
       "      <td>49.000000</td>\n",
       "      <td>222.000000</td>\n",
       "      <td>284.000000</td>\n",
       "    </tr>\n",
       "    <tr>\n",
       "      <th>max</th>\n",
       "      <td>41.00000</td>\n",
       "      <td>45.455000</td>\n",
       "      <td>100.000000</td>\n",
       "      <td>56.996900</td>\n",
       "      <td>367.000000</td>\n",
       "      <td>886.000000</td>\n",
       "      <td>977.000000</td>\n",
       "    </tr>\n",
       "    <tr>\n",
       "      <th>IQR</th>\n",
       "      <td>12.30000</td>\n",
       "      <td>14.395000</td>\n",
       "      <td>30.000000</td>\n",
       "      <td>9.996400</td>\n",
       "      <td>45.000000</td>\n",
       "      <td>186.000000</td>\n",
       "      <td>242.000000</td>\n",
       "    </tr>\n",
       "    <tr>\n",
       "      <th>UW</th>\n",
       "      <td>44.69000</td>\n",
       "      <td>52.652500</td>\n",
       "      <td>122.000000</td>\n",
       "      <td>31.992500</td>\n",
       "      <td>116.500000</td>\n",
       "      <td>501.000000</td>\n",
       "      <td>647.000000</td>\n",
       "    </tr>\n",
       "    <tr>\n",
       "      <th>LW</th>\n",
       "      <td>-4.51000</td>\n",
       "      <td>-4.927500</td>\n",
       "      <td>2.000000</td>\n",
       "      <td>-7.993100</td>\n",
       "      <td>-63.500000</td>\n",
       "      <td>-243.000000</td>\n",
       "      <td>-321.000000</td>\n",
       "    </tr>\n",
       "    <tr>\n",
       "      <th>Count_Outliers</th>\n",
       "      <td>0.00000</td>\n",
       "      <td>0.000000</td>\n",
       "      <td>22.000000</td>\n",
       "      <td>227.000000</td>\n",
       "      <td>749.000000</td>\n",
       "      <td>423.000000</td>\n",
       "      <td>300.000000</td>\n",
       "    </tr>\n",
       "  </tbody>\n",
       "</table>\n",
       "</div>"
      ],
      "text/plain": [
       "                       temp         atemp      humidity     windspeed  \\\n",
       "count           10886.00000  10886.000000  10886.000000  10886.000000   \n",
       "mean               20.23086     23.655084     61.886460     12.799395   \n",
       "std                 7.79159      8.474601     19.245033      8.164537   \n",
       "min                 0.82000      0.760000      0.000000      0.000000   \n",
       "25%                13.94000     16.665000     47.000000      7.001500   \n",
       "50%                20.50000     24.240000     62.000000     12.998000   \n",
       "75%                26.24000     31.060000     77.000000     16.997900   \n",
       "max                41.00000     45.455000    100.000000     56.996900   \n",
       "IQR                12.30000     14.395000     30.000000      9.996400   \n",
       "UW                 44.69000     52.652500    122.000000     31.992500   \n",
       "LW                 -4.51000     -4.927500      2.000000     -7.993100   \n",
       "Count_Outliers      0.00000      0.000000     22.000000    227.000000   \n",
       "\n",
       "                      casual    registered         count  \n",
       "count           10886.000000  10886.000000  10886.000000  \n",
       "mean               36.021955    155.552177    191.574132  \n",
       "std                49.960477    151.039033    181.144454  \n",
       "min                 0.000000      0.000000      1.000000  \n",
       "25%                 4.000000     36.000000     42.000000  \n",
       "50%                17.000000    118.000000    145.000000  \n",
       "75%                49.000000    222.000000    284.000000  \n",
       "max               367.000000    886.000000    977.000000  \n",
       "IQR                45.000000    186.000000    242.000000  \n",
       "UW                116.500000    501.000000    647.000000  \n",
       "LW                -63.500000   -243.000000   -321.000000  \n",
       "Count_Outliers    749.000000    423.000000    300.000000  "
      ]
     },
     "execution_count": 199,
     "metadata": {},
     "output_type": "execute_result"
    }
   ],
   "source": [
    "data_describe"
   ]
  },
  {
   "cell_type": "code",
   "execution_count": 200,
   "id": "6c04ada2",
   "metadata": {},
   "outputs": [
    {
     "data": {
      "image/png": "[encoded data removed]",
      "text/plain": [
       "<Figure size 1080x1080 with 4 Axes>"
      ]
     },
     "metadata": {
      "needs_background": "light"
     },
     "output_type": "display_data"
    }
   ],
   "source": [
    "# We can see outlier present in column using Box plot also \n",
    "\n",
    "fig,axis = plt.subplots(nrows = 2 ,ncols = 2,figsize=(15,15))\n",
    "\n",
    "sns.boxplot(x=data['count'], ax= axis[0,0])\n",
    "axis[0,0].set_title(\"Count Column Box Plot \")\n",
    "\n",
    "sns.boxplot(x=data['casual'], ax= axis[0,1])\n",
    "axis[0,1].set_title(\"Casual Column Box Plot \")\n",
    "\n",
    "sns.boxplot(x=data['registered'], ax= axis[1,0])\n",
    "axis[1,0].set_title(\"Registered Column Box Plot \")\n",
    "\n",
    "sns.boxplot(x=data['weather'], ax= axis[1,1])\n",
    "axis[1,1].set_title(\"Weather Column Box Plot \")\n",
    "\n",
    "plt.show()"
   ]
  },
  {
   "cell_type": "code",
   "execution_count": null,
   "id": "74fd1adf",
   "metadata": {},
   "outputs": [],
   "source": []
  },
  {
   "cell_type": "markdown",
   "id": "61a95aa9",
   "metadata": {},
   "source": [
    "## 1. Effect of Working day (Categorical) on Count of total rental bikes (Numerical )"
   ]
  },
  {
   "cell_type": "code",
   "execution_count": 201,
   "id": "911e45f5",
   "metadata": {},
   "outputs": [
    {
     "data": {
      "text/plain": [
       "1    7412\n",
       "0    3474\n",
       "Name: workingday, dtype: int64"
      ]
     },
     "execution_count": 201,
     "metadata": {},
     "output_type": "execute_result"
    }
   ],
   "source": [
    "data['workingday'].value_counts() "
   ]
  },
  {
   "cell_type": "markdown",
   "id": "3198d82f",
   "metadata": {},
   "source": [
    "- Workingday 1 means it is working day\n",
    "- Workingday 0 means either weekend or holiday"
   ]
  },
  {
   "cell_type": "code",
   "execution_count": 202,
   "id": "4df97f32",
   "metadata": {},
   "outputs": [],
   "source": [
    "workingday_1 = data.loc[data['workingday'] == 1 ,'count']\n",
    "workingday_0 = data.loc[data['workingday'] == 0 ,'count']"
   ]
  },
  {
   "cell_type": "code",
   "execution_count": 203,
   "id": "6a498ffd",
   "metadata": {},
   "outputs": [
    {
     "data": {
      "text/plain": [
       "Ttest_indResult(statistic=-1.2096277376026694, pvalue=0.22644804226361348)"
      ]
     },
     "execution_count": 203,
     "metadata": {},
     "output_type": "execute_result"
    }
   ],
   "source": [
    "# As there are 2 groups to compare categorical vs numerical so we are using 2 sample T-test  (unpaired t-test)\n",
    "# H0 : Mean of workingday 0 count of total rental bikes  = Mean of workingday 1 count of total rental bikes \n",
    "# Ha : Mean of workingday 0 count of total rental bikes  <> Mean of workingday 1 count of total rental bikes \n",
    "ttest_ind(workingday_0,workingday_1)"
   ]
  },
  {
   "cell_type": "markdown",
   "id": "6fbfb7c5",
   "metadata": {},
   "source": [
    "- Say significance is 0.05  , As p (0.226) > 0.05 (significance) so we FAIL to reject Null Hypothesis (H0).\n",
    "- Hence working day does not have an impact on total count of rental bikes"
   ]
  },
  {
   "cell_type": "markdown",
   "id": "2d3d95a2",
   "metadata": {},
   "source": [
    "## 2. Effect of Weather (Categorical) on Count of total rental bikes (Numerical )"
   ]
  },
  {
   "cell_type": "code",
   "execution_count": 204,
   "id": "ac0672b4",
   "metadata": {},
   "outputs": [
    {
     "data": {
      "text/plain": [
       "1    7192\n",
       "2    2834\n",
       "3     859\n",
       "4       1\n",
       "Name: weather, dtype: int64"
      ]
     },
     "execution_count": 204,
     "metadata": {},
     "output_type": "execute_result"
    }
   ],
   "source": [
    "data['weather'].value_counts()"
   ]
  },
  {
   "cell_type": "markdown",
   "id": "a114b712",
   "metadata": {},
   "source": [
    "- For weather 4 there is only 1 row data , which is very less and shows that very less bikes are rented in this weather"
   ]
  },
  {
   "cell_type": "code",
   "execution_count": 205,
   "id": "ddcc3da4",
   "metadata": {},
   "outputs": [],
   "source": [
    "# creating groups of each waether 1 to 4 having count of total rental bikes in each weather\n",
    "weather_1 = data.loc[data['weather'] == 1 ,'count']\n",
    "weather_2 = data.loc[data['weather'] == 2 ,'count']\n",
    "weather_3 = data.loc[data['weather'] == 3 ,'count']\n",
    "weather_4 = data.loc[data['weather'] == 4 ,'count']"
   ]
  },
  {
   "cell_type": "code",
   "execution_count": 206,
   "id": "da30acf2",
   "metadata": {},
   "outputs": [
    {
     "name": "stdout",
     "output_type": "stream",
     "text": [
      "Total Count of rental Bikes in Weather 1 :  1476063\n",
      "Total Count of rental Bikes in Weather 2 :  507160\n",
      "Total Count of rental Bikes in Weather 3 :  102089\n",
      "Total Count of rental Bikes in Weather 4 :  164\n"
     ]
    }
   ],
   "source": [
    "print('Total Count of rental Bikes in Weather 1 : ',sum(weather_1))\n",
    "print('Total Count of rental Bikes in Weather 2 : ',sum(weather_2))\n",
    "print('Total Count of rental Bikes in Weather 3 : ',sum(weather_3))\n",
    "print('Total Count of rental Bikes in Weather 4 : ',sum(weather_4))"
   ]
  },
  {
   "cell_type": "markdown",
   "id": "0ee69f2e",
   "metadata": {},
   "source": [
    "- Note :To apply ANOVA following 3 must be True \n",
    "1. The data must be Gaussian - Shapiro / QQ PLot Test used \n",
    "2. The variance in each group should be same - Leven Test used\n",
    "3. Data should be independent \n",
    "\n",
    "- Assume significance is 0.05 (95% Confidence Interval )"
   ]
  },
  {
   "cell_type": "code",
   "execution_count": 207,
   "id": "bc88c2e6",
   "metadata": {},
   "outputs": [
    {
     "data": {
      "image/png": "[encoded data removed]",
      "text/plain": [
       "<Figure size 1080x1080 with 4 Axes>"
      ]
     },
     "metadata": {
      "needs_background": "light"
     },
     "output_type": "display_data"
    }
   ],
   "source": [
    "fig,axis = plt.subplots(nrows = 2 ,ncols = 2,figsize=(15,15))\n",
    "\n",
    "sns.histplot(weather_1, ax= axis[0,0])\n",
    "axis[0,0].set_title(\"Weather 1 : Histogram \")\n",
    "\n",
    "sns.histplot(weather_2, ax= axis[0,1])\n",
    "axis[0,1].set_title(\"Weather 2 : Histogram \")\n",
    "\n",
    "sns.histplot(weather_3, ax= axis[1,0])\n",
    "axis[1,0].set_title(\"Weather 3 : Histogram \")\n",
    "\n",
    "sns.histplot(weather_4, ax= axis[1,1])\n",
    "axis[1,1].set_title(\"Weather 4 : Histogram \")\n",
    "\n",
    "plt.show()"
   ]
  },
  {
   "cell_type": "markdown",
   "id": "66009937",
   "metadata": {},
   "source": [
    "### QQ Plot Test"
   ]
  },
  {
   "cell_type": "code",
   "execution_count": 208,
   "id": "f4f75415",
   "metadata": {},
   "outputs": [
    {
     "name": "stderr",
     "output_type": "stream",
     "text": [
      "E:\\Anaconda3\\lib\\site-packages\\statsmodels\\graphics\\gofplots.py:993: UserWarning: marker is redundantly defined by the 'marker' keyword argument and the fmt string \"bo\" (-> marker='o'). The keyword argument will take precedence.\n",
      "  ax.plot(x, y, fmt, **plot_style)\n",
      "E:\\Anaconda3\\lib\\site-packages\\statsmodels\\graphics\\gofplots.py:993: UserWarning: marker is redundantly defined by the 'marker' keyword argument and the fmt string \"bo\" (-> marker='o'). The keyword argument will take precedence.\n",
      "  ax.plot(x, y, fmt, **plot_style)\n",
      "E:\\Anaconda3\\lib\\site-packages\\statsmodels\\graphics\\gofplots.py:993: UserWarning: marker is redundantly defined by the 'marker' keyword argument and the fmt string \"bo\" (-> marker='o'). The keyword argument will take precedence.\n",
      "  ax.plot(x, y, fmt, **plot_style)\n",
      "E:\\Anaconda3\\lib\\site-packages\\statsmodels\\graphics\\gofplots.py:993: UserWarning: marker is redundantly defined by the 'marker' keyword argument and the fmt string \"bo\" (-> marker='o'). The keyword argument will take precedence.\n",
      "  ax.plot(x, y, fmt, **plot_style)\n"
     ]
    },
    {
     "data": {
      "image/png": "[encoded data removed]",
      "text/plain": [
       "<Figure size 1080x1080 with 4 Axes>"
      ]
     },
     "metadata": {
      "needs_background": "light"
     },
     "output_type": "display_data"
    }
   ],
   "source": [
    "fig,axis = plt.subplots(nrows = 2 ,ncols = 2,figsize=(15,15))\n",
    "\n",
    "qqplot(weather_1,line='s', ax= axis[0,0])\n",
    "axis[0,0].set_title(\"Weather 1 : QQ Plot \")\n",
    "\n",
    "qqplot(weather_2,line='s', ax= axis[0,1])\n",
    "axis[0,1].set_title(\"Weather 2 : QQ Plot \")\n",
    "\n",
    "qqplot(weather_3,line='s', ax= axis[1,0])\n",
    "axis[1,0].set_title(\"Weather 3 : QQ Plot \")\n",
    "\n",
    "qqplot(weather_4,line='s', ax= axis[1,1])\n",
    "axis[1,1].set_title(\"Weather 4 : QQ Plot \")\n",
    "\n",
    "plt.show()"
   ]
  },
  {
   "cell_type": "markdown",
   "id": "e3ec469e",
   "metadata": {},
   "source": [
    "- Data is not Gaussian this can be seen from histogram plot of the data groups and from QQ Plot shown above showing that it is not following gaussian trend ."
   ]
  },
  {
   "cell_type": "markdown",
   "id": "92bfaea0",
   "metadata": {},
   "source": [
    "### Shapiro Test"
   ]
  },
  {
   "cell_type": "code",
   "execution_count": 209,
   "id": "0ea5f21d",
   "metadata": {},
   "outputs": [
    {
     "name": "stdout",
     "output_type": "stream",
     "text": [
      "Weather 1  ShapiroResult(statistic=0.9038112163543701, pvalue=4.4246467600927986e-10)\n",
      "Weather 2  ShapiroResult(statistic=0.8606392741203308, pvalue=1.4556546072685972e-12)\n",
      "Weather 3  ShapiroResult(statistic=0.7434263229370117, pvalue=2.5091408842330373e-17)\n"
     ]
    }
   ],
   "source": [
    "# As shapiro is is used to when we have few samples . So taking 200 sample from each weather count .\n",
    "# H0 : data is gaussian \n",
    "# Ha : data is not gaussian\n",
    "\n",
    "print('Weather 1 ',shapiro(weather_1.sample(200)))\n",
    "print('Weather 2 ',shapiro(weather_2.sample(200)))\n",
    "print('Weather 3 ',shapiro(weather_3.sample(200)))\n",
    "# For weather 4 not enough data so cannot apply shapino test"
   ]
  },
  {
   "cell_type": "markdown",
   "id": "435d6489",
   "metadata": {},
   "source": [
    "- Say significance is 0.05 , As p value ( for all) < 0.05 so we reject Null Hypothesis (H0)\n",
    "- Hence data is not Gaussian for count of total rental bikes in all weathers "
   ]
  },
  {
   "cell_type": "markdown",
   "id": "0bb62fb1",
   "metadata": {},
   "source": [
    "### Levene test "
   ]
  },
  {
   "cell_type": "code",
   "execution_count": 210,
   "id": "f46002bb",
   "metadata": {},
   "outputs": [
    {
     "data": {
      "text/plain": [
       "LeveneResult(statistic=54.85106195954556, pvalue=3.504937946833238e-35)"
      ]
     },
     "execution_count": 210,
     "metadata": {},
     "output_type": "execute_result"
    }
   ],
   "source": [
    "# H0 : variance is same in each group\n",
    "# Ha : variance is not same in each group\n",
    "levene(weather_1,weather_2,weather_3,weather_4) # Included weather_4 here but it has only 1 row data which is not enogh"
   ]
  },
  {
   "cell_type": "markdown",
   "id": "c3c5fcdf",
   "metadata": {},
   "source": [
    "- As p < 0.05 so we reject H0 (null hypothesis) . Hence variance is not same in each group "
   ]
  },
  {
   "cell_type": "markdown",
   "id": "5935ac0c",
   "metadata": {},
   "source": [
    "### ANOVA Test "
   ]
  },
  {
   "cell_type": "code",
   "execution_count": 211,
   "id": "fbbeb9f2",
   "metadata": {},
   "outputs": [
    {
     "data": {
      "text/plain": [
       "F_onewayResult(statistic=65.53024112793271, pvalue=5.482069475935669e-42)"
      ]
     },
     "execution_count": 211,
     "metadata": {},
     "output_type": "execute_result"
    }
   ],
   "source": [
    "# ANOVA Test to compare 4 weather groups count \n",
    "# H0 : mean count of total rental bikes is SAME in each group\n",
    "# Ha : mean count of total rental bikes is DIFFERENT in one or more group\n",
    "f_oneway(weather_1,weather_2,weather_3,weather_4 )"
   ]
  },
  {
   "cell_type": "markdown",
   "id": "bdc32829",
   "metadata": {},
   "source": [
    "- As p < 0.05 so we reject H0 . So mean count of total rental bikes is DIFFERENT in one or more weather group"
   ]
  },
  {
   "cell_type": "markdown",
   "id": "553c9e2c",
   "metadata": {},
   "source": [
    "### KRUSKAL Test"
   ]
  },
  {
   "cell_type": "markdown",
   "id": "94f62f4e",
   "metadata": {},
   "source": [
    "- NOTE : As QQ Plot / Shapiro failed to prove that data is gaussian and also Levene test failed to prove that variance is same in each group so ideally we cannot use ANOVA Test as its prequist failed . So we should use Krukal Test if we cannot use ANOVA\n"
   ]
  },
  {
   "cell_type": "code",
   "execution_count": 212,
   "id": "80d359d5",
   "metadata": {},
   "outputs": [
    {
     "data": {
      "text/plain": [
       "KruskalResult(statistic=205.00216514479087, pvalue=3.501611300708679e-44)"
      ]
     },
     "execution_count": 212,
     "metadata": {},
     "output_type": "execute_result"
    }
   ],
   "source": [
    "# KRUSKAL Test to compare 4 weather groups count \n",
    "# H0 : mean count of total rental bikes is SAME in each group\n",
    "# Ha : mean count of total rental bikes is DIFFERENT in one or more group\n",
    "kruskal(weather_1,weather_2,weather_3,weather_4 )"
   ]
  },
  {
   "cell_type": "markdown",
   "id": "705cace9",
   "metadata": {},
   "source": [
    "- As p < 0.05 so we reject H0 . So mean count of total rental bikes is DIFFERENT in one or more weather group\n",
    "- So we can say that weather has an effect on total count of rental bikes\n",
    "- This can also been seen by Weather = 4 Heavy Rain + Ice Pallets + Thunderstorm + Mist, Snow + Fog has very low (lowest ) count of total rental bikes "
   ]
  },
  {
   "cell_type": "markdown",
   "id": "cf8b46b3",
   "metadata": {},
   "source": [
    "## 3. Effect of Season (Categorical) on Count of total rental bikes (Numerical )"
   ]
  },
  {
   "cell_type": "code",
   "execution_count": 213,
   "id": "f9da7a3f",
   "metadata": {},
   "outputs": [
    {
     "data": {
      "text/plain": [
       "4    2734\n",
       "2    2733\n",
       "3    2733\n",
       "1    2686\n",
       "Name: season, dtype: int64"
      ]
     },
     "execution_count": 213,
     "metadata": {},
     "output_type": "execute_result"
    }
   ],
   "source": [
    "data['season'].value_counts()"
   ]
  },
  {
   "cell_type": "code",
   "execution_count": 214,
   "id": "1864e7dd",
   "metadata": {},
   "outputs": [],
   "source": [
    "# creating groups of each season 1 to 4 having count of total rental bikes in each season\n",
    "season_1 = data.loc[data['season'] == 1 ,'count']\n",
    "season_2 = data.loc[data['season'] == 2 ,'count']\n",
    "season_3 = data.loc[data['season'] == 3 ,'count']\n",
    "season_4 = data.loc[data['season'] == 4 ,'count']"
   ]
  },
  {
   "cell_type": "code",
   "execution_count": 215,
   "id": "0a513e33",
   "metadata": {},
   "outputs": [
    {
     "name": "stdout",
     "output_type": "stream",
     "text": [
      "Total Count of rental Bikes in Season 1 :  312498\n",
      "Total Count of rental Bikes in Season 2 :  588282\n",
      "Total Count of rental Bikes in Season 3 :  640662\n",
      "Total Count of rental Bikes in Season 4 :  544034\n"
     ]
    }
   ],
   "source": [
    "print('Total Count of rental Bikes in Season 1 : ',sum(season_1))\n",
    "print('Total Count of rental Bikes in Season 2 : ',sum(season_2))\n",
    "print('Total Count of rental Bikes in Season 3 : ',sum(season_3))\n",
    "print('Total Count of rental Bikes in Season 4 : ',sum(season_4))"
   ]
  },
  {
   "cell_type": "code",
   "execution_count": 216,
   "id": "bf9384c5",
   "metadata": {},
   "outputs": [
    {
     "data": {
      "image/png": "[encoded data removed]",
      "text/plain": [
       "<Figure size 1080x1080 with 4 Axes>"
      ]
     },
     "metadata": {
      "needs_background": "light"
     },
     "output_type": "display_data"
    }
   ],
   "source": [
    "fig,axis = plt.subplots(nrows = 2 ,ncols = 2,figsize=(15,15))\n",
    "\n",
    "sns.histplot(season_1, ax= axis[0,0])\n",
    "axis[0,0].set_title(\"Season 1 : Histogram \")\n",
    "\n",
    "sns.histplot(season_2, ax= axis[0,1])\n",
    "axis[0,1].set_title(\"Season 2 : Histogram \")\n",
    "\n",
    "sns.histplot(season_3, ax= axis[1,0])\n",
    "axis[1,0].set_title(\"Season 3 : Histogram \")\n",
    "\n",
    "sns.histplot(season_4, ax= axis[1,1])\n",
    "axis[1,1].set_title(\"Season 4 : Histogram \")\n",
    "\n",
    "plt.show()"
   ]
  },
  {
   "cell_type": "markdown",
   "id": "9d2de0ee",
   "metadata": {},
   "source": [
    "### QQ Plot Test"
   ]
  },
  {
   "cell_type": "code",
   "execution_count": 217,
   "id": "cd5b7e73",
   "metadata": {},
   "outputs": [
    {
     "name": "stderr",
     "output_type": "stream",
     "text": [
      "E:\\Anaconda3\\lib\\site-packages\\statsmodels\\graphics\\gofplots.py:993: UserWarning: marker is redundantly defined by the 'marker' keyword argument and the fmt string \"bo\" (-> marker='o'). The keyword argument will take precedence.\n",
      "  ax.plot(x, y, fmt, **plot_style)\n",
      "E:\\Anaconda3\\lib\\site-packages\\statsmodels\\graphics\\gofplots.py:993: UserWarning: marker is redundantly defined by the 'marker' keyword argument and the fmt string \"bo\" (-> marker='o'). The keyword argument will take precedence.\n",
      "  ax.plot(x, y, fmt, **plot_style)\n",
      "E:\\Anaconda3\\lib\\site-packages\\statsmodels\\graphics\\gofplots.py:993: UserWarning: marker is redundantly defined by the 'marker' keyword argument and the fmt string \"bo\" (-> marker='o'). The keyword argument will take precedence.\n",
      "  ax.plot(x, y, fmt, **plot_style)\n",
      "E:\\Anaconda3\\lib\\site-packages\\statsmodels\\graphics\\gofplots.py:993: UserWarning: marker is redundantly defined by the 'marker' keyword argument and the fmt string \"bo\" (-> marker='o'). The keyword argument will take precedence.\n",
      "  ax.plot(x, y, fmt, **plot_style)\n"
     ]
    },
    {
     "data": {
      "image/png": "[encoded data removed]",
      "text/plain": [
       "<Figure size 1080x1080 with 4 Axes>"
      ]
     },
     "metadata": {
      "needs_background": "light"
     },
     "output_type": "display_data"
    }
   ],
   "source": [
    "fig,axis = plt.subplots(nrows = 2 ,ncols = 2,figsize=(15,15))\n",
    "\n",
    "qqplot(season_1,line='s', ax= axis[0,0])\n",
    "axis[0,0].set_title(\"Season 1 : QQ Plot \")\n",
    "\n",
    "qqplot(season_2,line='s', ax= axis[0,1])\n",
    "axis[0,1].set_title(\"Season 2 : QQ Plot \")\n",
    "\n",
    "qqplot(season_3,line='s', ax= axis[1,0])\n",
    "axis[1,0].set_title(\"Season 3 : QQ Plot \")\n",
    "\n",
    "qqplot(season_4,line='s', ax= axis[1,1])\n",
    "axis[1,1].set_title(\"Season 4 : QQ Plot \")\n",
    "\n",
    "plt.show()"
   ]
  },
  {
   "cell_type": "markdown",
   "id": "7bdf6d8c",
   "metadata": {},
   "source": [
    "- Data is not Gaussian this can be seen from histogram plot of the data groups and from QQ Plot shown above showing that it is not following gaussian trend ."
   ]
  },
  {
   "cell_type": "markdown",
   "id": "05844297",
   "metadata": {},
   "source": [
    "### Shapiro Test"
   ]
  },
  {
   "cell_type": "code",
   "execution_count": 218,
   "id": "87342a3f",
   "metadata": {},
   "outputs": [
    {
     "name": "stdout",
     "output_type": "stream",
     "text": [
      "Season 1  ShapiroResult(statistic=0.8078007698059082, pvalue=5.744455899050734e-15)\n",
      "Season 2  ShapiroResult(statistic=0.898324191570282, pvalue=1.9680931884202835e-10)\n",
      "Season 3  ShapiroResult(statistic=0.9169405102729797, pvalue=3.4936167292443088e-09)\n",
      "Season 4  ShapiroResult(statistic=0.8757854700088501, pvalue=9.261524706871693e-12)\n"
     ]
    }
   ],
   "source": [
    "# As shapiro is is used to when we have few samples . So taking 200 sample from each season count .\n",
    "# H0 : data is gaussian \n",
    "# Ha : data is not gaussian\n",
    "\n",
    "print('Season 1 ',shapiro(season_1.sample(200)))\n",
    "print('Season 2 ',shapiro(season_2.sample(200)))\n",
    "print('Season 3 ',shapiro(season_3.sample(200)))\n",
    "print('Season 4 ',shapiro(season_4.sample(200)))"
   ]
  },
  {
   "cell_type": "markdown",
   "id": "c6c7cdca",
   "metadata": {},
   "source": [
    "- Say significance is 0.05 , As p value ( for all) < 0.05 so we reject Null Hypothesis (H0)\n",
    "- Hence data is not Gaussian for count of total rental bikes in all seasons "
   ]
  },
  {
   "cell_type": "markdown",
   "id": "36d97070",
   "metadata": {},
   "source": [
    "### Levene test "
   ]
  },
  {
   "cell_type": "code",
   "execution_count": 219,
   "id": "0eaebf01",
   "metadata": {},
   "outputs": [
    {
     "data": {
      "text/plain": [
       "LeveneResult(statistic=187.7706624026276, pvalue=1.0147116860043298e-118)"
      ]
     },
     "execution_count": 219,
     "metadata": {},
     "output_type": "execute_result"
    }
   ],
   "source": [
    "# H0 : variance is same in each group\n",
    "# Ha : variance is not same in each group\n",
    "levene(season_1,season_2,season_3,season_4)"
   ]
  },
  {
   "cell_type": "markdown",
   "id": "8d1013a6",
   "metadata": {},
   "source": [
    "- As p < 0.05 so we reject H0 (null hypothesis) . Hence variance is not same in each group "
   ]
  },
  {
   "cell_type": "markdown",
   "id": "49dc919f",
   "metadata": {},
   "source": [
    "### ANOVA Test "
   ]
  },
  {
   "cell_type": "code",
   "execution_count": 220,
   "id": "30a47342",
   "metadata": {},
   "outputs": [
    {
     "data": {
      "text/plain": [
       "F_onewayResult(statistic=236.94671081032106, pvalue=6.164843386499654e-149)"
      ]
     },
     "execution_count": 220,
     "metadata": {},
     "output_type": "execute_result"
    }
   ],
   "source": [
    "# ANOVA Test to compare 4 season groups count \n",
    "# H0 : mean count of total rental bikes is SAME in each group\n",
    "# Ha : mean count of total rental bikes is DIFFERENT in one or more season group\n",
    "f_oneway(season_1,season_2,season_3,season_4 )"
   ]
  },
  {
   "cell_type": "markdown",
   "id": "a1e7ae4b",
   "metadata": {},
   "source": [
    "- As p < 0.05 so we reject H0 . So mean count of total rental bikes is DIFFERENT in one or more season group"
   ]
  },
  {
   "cell_type": "markdown",
   "id": "629ea31e",
   "metadata": {},
   "source": [
    "### KRUSKAL Test"
   ]
  },
  {
   "cell_type": "markdown",
   "id": "3997bad6",
   "metadata": {},
   "source": [
    "- NOTE : As QQ Plot / Shapiro failed to prove that data is gaussian and also Levene test failed to prove that variance is same in each group so ideally we cannot use ANOVA Test as its prequist failed . So we should use Krukal Test if we cannot use ANOVA\n"
   ]
  },
  {
   "cell_type": "code",
   "execution_count": 221,
   "id": "9ac9fada",
   "metadata": {},
   "outputs": [
    {
     "data": {
      "text/plain": [
       "KruskalResult(statistic=699.6668548181988, pvalue=2.479008372608633e-151)"
      ]
     },
     "execution_count": 221,
     "metadata": {},
     "output_type": "execute_result"
    }
   ],
   "source": [
    "# KRUSKAL Test to compare 4 season groups count \n",
    "# H0 : mean count of total rental bikes is SAME in each group\n",
    "# Ha : mean count of total rental bikes is DIFFERENT in one or more group\n",
    "kruskal(season_1,season_2,season_3,season_4 )"
   ]
  },
  {
   "cell_type": "markdown",
   "id": "1b0f1267",
   "metadata": {},
   "source": [
    "- As p < 0.05 so we reject H0 . So mean count of total rental bikes is DIFFERENT in one or more season group\n",
    "- So we can say that season has an effect on total count of rental bikes"
   ]
  },
  {
   "cell_type": "markdown",
   "id": "b891d0b5",
   "metadata": {},
   "source": [
    "## 4. Check if Weather (Categorical ) dependent on Season (Categorical)"
   ]
  },
  {
   "cell_type": "code",
   "execution_count": 222,
   "id": "da71dcdb",
   "metadata": {},
   "outputs": [
    {
     "data": {
      "text/html": [
       "<div>\n",
       "<style scoped>\n",
       "    .dataframe tbody tr th:only-of-type {\n",
       "        vertical-align: middle;\n",
       "    }\n",
       "\n",
       "    .dataframe tbody tr th {\n",
       "        vertical-align: top;\n",
       "    }\n",
       "\n",
       "    .dataframe thead th {\n",
       "        text-align: right;\n",
       "    }\n",
       "</style>\n",
       "<table border=\"1\" class=\"dataframe\">\n",
       "  <thead>\n",
       "    <tr style=\"text-align: right;\">\n",
       "      <th></th>\n",
       "      <th>datetime</th>\n",
       "      <th>season</th>\n",
       "      <th>holiday</th>\n",
       "      <th>workingday</th>\n",
       "      <th>weather</th>\n",
       "      <th>temp</th>\n",
       "      <th>atemp</th>\n",
       "      <th>humidity</th>\n",
       "      <th>windspeed</th>\n",
       "      <th>casual</th>\n",
       "      <th>registered</th>\n",
       "      <th>count</th>\n",
       "    </tr>\n",
       "  </thead>\n",
       "  <tbody>\n",
       "    <tr>\n",
       "      <th>0</th>\n",
       "      <td>2011-01-01 00:00:00</td>\n",
       "      <td>1</td>\n",
       "      <td>0</td>\n",
       "      <td>0</td>\n",
       "      <td>1</td>\n",
       "      <td>9.84</td>\n",
       "      <td>14.395</td>\n",
       "      <td>81</td>\n",
       "      <td>0.0</td>\n",
       "      <td>3</td>\n",
       "      <td>13</td>\n",
       "      <td>16</td>\n",
       "    </tr>\n",
       "    <tr>\n",
       "      <th>1</th>\n",
       "      <td>2011-01-01 01:00:00</td>\n",
       "      <td>1</td>\n",
       "      <td>0</td>\n",
       "      <td>0</td>\n",
       "      <td>1</td>\n",
       "      <td>9.02</td>\n",
       "      <td>13.635</td>\n",
       "      <td>80</td>\n",
       "      <td>0.0</td>\n",
       "      <td>8</td>\n",
       "      <td>32</td>\n",
       "      <td>40</td>\n",
       "    </tr>\n",
       "    <tr>\n",
       "      <th>2</th>\n",
       "      <td>2011-01-01 02:00:00</td>\n",
       "      <td>1</td>\n",
       "      <td>0</td>\n",
       "      <td>0</td>\n",
       "      <td>1</td>\n",
       "      <td>9.02</td>\n",
       "      <td>13.635</td>\n",
       "      <td>80</td>\n",
       "      <td>0.0</td>\n",
       "      <td>5</td>\n",
       "      <td>27</td>\n",
       "      <td>32</td>\n",
       "    </tr>\n",
       "    <tr>\n",
       "      <th>3</th>\n",
       "      <td>2011-01-01 03:00:00</td>\n",
       "      <td>1</td>\n",
       "      <td>0</td>\n",
       "      <td>0</td>\n",
       "      <td>1</td>\n",
       "      <td>9.84</td>\n",
       "      <td>14.395</td>\n",
       "      <td>75</td>\n",
       "      <td>0.0</td>\n",
       "      <td>3</td>\n",
       "      <td>10</td>\n",
       "      <td>13</td>\n",
       "    </tr>\n",
       "    <tr>\n",
       "      <th>4</th>\n",
       "      <td>2011-01-01 04:00:00</td>\n",
       "      <td>1</td>\n",
       "      <td>0</td>\n",
       "      <td>0</td>\n",
       "      <td>1</td>\n",
       "      <td>9.84</td>\n",
       "      <td>14.395</td>\n",
       "      <td>75</td>\n",
       "      <td>0.0</td>\n",
       "      <td>0</td>\n",
       "      <td>1</td>\n",
       "      <td>1</td>\n",
       "    </tr>\n",
       "  </tbody>\n",
       "</table>\n",
       "</div>"
      ],
      "text/plain": [
       "             datetime season holiday workingday weather  temp   atemp  \\\n",
       "0 2011-01-01 00:00:00      1       0          0       1  9.84  14.395   \n",
       "1 2011-01-01 01:00:00      1       0          0       1  9.02  13.635   \n",
       "2 2011-01-01 02:00:00      1       0          0       1  9.02  13.635   \n",
       "3 2011-01-01 03:00:00      1       0          0       1  9.84  14.395   \n",
       "4 2011-01-01 04:00:00      1       0          0       1  9.84  14.395   \n",
       "\n",
       "   humidity  windspeed  casual  registered  count  \n",
       "0        81        0.0       3          13     16  \n",
       "1        80        0.0       8          32     40  \n",
       "2        80        0.0       5          27     32  \n",
       "3        75        0.0       3          10     13  \n",
       "4        75        0.0       0           1      1  "
      ]
     },
     "execution_count": 222,
     "metadata": {},
     "output_type": "execute_result"
    }
   ],
   "source": [
    "data.head()"
   ]
  },
  {
   "cell_type": "code",
   "execution_count": 223,
   "id": "b69d575c",
   "metadata": {},
   "outputs": [
    {
     "data": {
      "text/plain": [
       "1    7192\n",
       "2    2834\n",
       "3     859\n",
       "4       1\n",
       "Name: weather, dtype: int64"
      ]
     },
     "execution_count": 223,
     "metadata": {},
     "output_type": "execute_result"
    }
   ],
   "source": [
    "data['weather'].value_counts()"
   ]
  },
  {
   "cell_type": "code",
   "execution_count": 224,
   "id": "b4091259",
   "metadata": {},
   "outputs": [
    {
     "data": {
      "text/plain": [
       "4    2734\n",
       "2    2733\n",
       "3    2733\n",
       "1    2686\n",
       "Name: season, dtype: int64"
      ]
     },
     "execution_count": 224,
     "metadata": {},
     "output_type": "execute_result"
    }
   ],
   "source": [
    "data['season'].value_counts()"
   ]
  },
  {
   "cell_type": "code",
   "execution_count": 225,
   "id": "de53a23b",
   "metadata": {},
   "outputs": [
    {
     "data": {
      "text/html": [
       "<div>\n",
       "<style scoped>\n",
       "    .dataframe tbody tr th:only-of-type {\n",
       "        vertical-align: middle;\n",
       "    }\n",
       "\n",
       "    .dataframe tbody tr th {\n",
       "        vertical-align: top;\n",
       "    }\n",
       "\n",
       "    .dataframe thead th {\n",
       "        text-align: right;\n",
       "    }\n",
       "</style>\n",
       "<table border=\"1\" class=\"dataframe\">\n",
       "  <thead>\n",
       "    <tr style=\"text-align: right;\">\n",
       "      <th>weather</th>\n",
       "      <th>1</th>\n",
       "      <th>2</th>\n",
       "      <th>3</th>\n",
       "      <th>4</th>\n",
       "      <th>All</th>\n",
       "    </tr>\n",
       "    <tr>\n",
       "      <th>season</th>\n",
       "      <th></th>\n",
       "      <th></th>\n",
       "      <th></th>\n",
       "      <th></th>\n",
       "      <th></th>\n",
       "    </tr>\n",
       "  </thead>\n",
       "  <tbody>\n",
       "    <tr>\n",
       "      <th>1</th>\n",
       "      <td>1759</td>\n",
       "      <td>715</td>\n",
       "      <td>211</td>\n",
       "      <td>1</td>\n",
       "      <td>2686</td>\n",
       "    </tr>\n",
       "    <tr>\n",
       "      <th>2</th>\n",
       "      <td>1801</td>\n",
       "      <td>708</td>\n",
       "      <td>224</td>\n",
       "      <td>0</td>\n",
       "      <td>2733</td>\n",
       "    </tr>\n",
       "    <tr>\n",
       "      <th>3</th>\n",
       "      <td>1930</td>\n",
       "      <td>604</td>\n",
       "      <td>199</td>\n",
       "      <td>0</td>\n",
       "      <td>2733</td>\n",
       "    </tr>\n",
       "    <tr>\n",
       "      <th>4</th>\n",
       "      <td>1702</td>\n",
       "      <td>807</td>\n",
       "      <td>225</td>\n",
       "      <td>0</td>\n",
       "      <td>2734</td>\n",
       "    </tr>\n",
       "    <tr>\n",
       "      <th>All</th>\n",
       "      <td>7192</td>\n",
       "      <td>2834</td>\n",
       "      <td>859</td>\n",
       "      <td>1</td>\n",
       "      <td>10886</td>\n",
       "    </tr>\n",
       "  </tbody>\n",
       "</table>\n",
       "</div>"
      ],
      "text/plain": [
       "weather     1     2    3  4    All\n",
       "season                            \n",
       "1        1759   715  211  1   2686\n",
       "2        1801   708  224  0   2733\n",
       "3        1930   604  199  0   2733\n",
       "4        1702   807  225  0   2734\n",
       "All      7192  2834  859  1  10886"
      ]
     },
     "execution_count": 225,
     "metadata": {},
     "output_type": "execute_result"
    }
   ],
   "source": [
    "pd.crosstab(index=data['season'],columns = data['weather'],margins =True)"
   ]
  },
  {
   "cell_type": "code",
   "execution_count": 226,
   "id": "ad92d581",
   "metadata": {},
   "outputs": [
    {
     "data": {
      "text/plain": [
       "(49.158655596893624,\n",
       " 1.549925073686492e-07,\n",
       " 9,\n",
       " array([[1.77454639e+03, 6.99258130e+02, 2.11948742e+02, 2.46738931e-01],\n",
       "        [1.80559765e+03, 7.11493845e+02, 2.15657450e+02, 2.51056403e-01],\n",
       "        [1.80559765e+03, 7.11493845e+02, 2.15657450e+02, 2.51056403e-01],\n",
       "        [1.80625831e+03, 7.11754180e+02, 2.15736359e+02, 2.51148264e-01]]))"
      ]
     },
     "execution_count": 226,
     "metadata": {},
     "output_type": "execute_result"
    }
   ],
   "source": [
    "# Chi-square test used to compare 2 categorical values\n",
    "# H0 : Season and Weather are independent\n",
    "# Ha : Season and Weather are dependent on each other\n",
    "\n",
    "chi2_contingency(pd.crosstab(index=data['season'],columns = data['weather']))"
   ]
  },
  {
   "cell_type": "markdown",
   "id": "e31f19eb",
   "metadata": {},
   "source": [
    "- Here P value is 1.549925073686492e-07 \n",
    "- Say significance is 0.05 . So as p < 0.05 so we reject Null Hypothesis (H0)\n",
    "- Hence Season and Weather are dependent on each other"
   ]
  },
  {
   "cell_type": "markdown",
   "id": "69f58fea",
   "metadata": {},
   "source": [
    "## 5. Check if Holiday (Categorical) has any effect on Count of total rental bikes (Numerical)"
   ]
  },
  {
   "cell_type": "code",
   "execution_count": 227,
   "id": "1f91ed7e",
   "metadata": {},
   "outputs": [
    {
     "data": {
      "text/plain": [
       "0    10575\n",
       "1      311\n",
       "Name: holiday, dtype: int64"
      ]
     },
     "execution_count": 227,
     "metadata": {},
     "output_type": "execute_result"
    }
   ],
   "source": [
    "data['holiday'].value_counts()\n",
    "# Say 0 means no Holiday  and 1 means holiday"
   ]
  },
  {
   "cell_type": "code",
   "execution_count": 228,
   "id": "7ac17109",
   "metadata": {},
   "outputs": [],
   "source": [
    "holiday_0 = data.loc[data['holiday']==0 ,'count']\n",
    "holiday_1 = data.loc[data['holiday']==1 ,'count']"
   ]
  },
  {
   "cell_type": "code",
   "execution_count": 229,
   "id": "44a3250f",
   "metadata": {},
   "outputs": [
    {
     "data": {
      "text/plain": [
       "Ttest_indResult(statistic=0.5626388963477119, pvalue=0.5736923883271103)"
      ]
     },
     "execution_count": 229,
     "metadata": {},
     "output_type": "execute_result"
    }
   ],
   "source": [
    "# H0 : Mean of total rental bike count on Holiday (holiday_1) = Mean of total rental bike count on Not Holiday (holiday_0)\n",
    "# Ha : Mean of total rental bike count on Holiday (holiday_1) <> Mean of total rental bike count on Not Holiday (holiday_0)\n",
    "\n",
    "ttest_ind(holiday_0,holiday_1)"
   ]
  },
  {
   "cell_type": "markdown",
   "id": "a59a7dae",
   "metadata": {},
   "source": [
    "- As p = 0.573 . So a p > 0.05 (siginificance) , we fail to reject Null Hypothesis (H0).\n",
    "- So Mean of total rental bike count on Holiday (holiday_1) = Mean of total rental bike count on Not Holiday (holiday_0)\n",
    "- So Holiday does not has any effect on Count of total rental bikes"
   ]
  },
  {
   "cell_type": "markdown",
   "id": "8171b847",
   "metadata": {},
   "source": [
    "## Insights :- \n",
    "- There are 10886 rows and 12 columns in data\n",
    "- There is no null values in any column\n",
    "- Holiday , Workingday,Season and Weather are Categorical Columns : Independent Columns\n",
    "- Count is Numerical Column : Dependet Columns (Target Column)\n",
    "- Assume significance is 0.05 (95% Confidence Interval)\n",
    "\n",
    "<br>\n",
    "\n",
    "- From 2 Sample T-Test , As p (0.226) > 0.05 (significance) so we FAIL to reject Null Hypothesis (H0).Hence __working day does not have an impact on total count of rental bikes__ .\n",
    "\n",
    "<br>\n",
    "\n",
    "- From ANOVA / Kruskal Test , As p < 0.05 so we reject H0 . So mean count of total rental bikes is DIFFERENT in one or more weather group.So we can say that __weather has an effect on total count of rental bikes__ . This can also been seen by Weather = 4 Heavy Rain + Ice Pallets + Thunderstorm + Mist, Snow + Fog has very low (lowest ) count of total rental bikes.\n",
    "- For Count of Rental bikes in each weather group ,Data is not Gaussian this can be seen from histogram plot of the data groups , from QQ Plot and Shapiro Test showing that it is not following gaussian trend .\n",
    "- Also variance of each weather group is not same , this was tested using Levene Test .\n",
    "\n",
    "<br>\n",
    "\n",
    "- From ANOVA / Kruskal Test , As p < 0.05 so we reject H0 . So mean count of total rental bikes is DIFFERENT in one or more season group .So we can say that __season has an effect on total count of rental bikes__ .\n",
    "- For Count of Rental bikes in each season group ,Data is not Gaussian this can be seen from histogram plot of the data groups , from QQ Plot and Shapiro Test showing that it is not following gaussian trend .\n",
    "- Also variance of each season group is not same , this was tested using Levene Test .\n",
    "\n",
    "<br>\n",
    "\n",
    "- From Chi- Square Test (contingency test) ,as p < 0.05 so we reject Null Hypothesis (H0) . Hence __Season and Weather are dependent on each other__\n",
    "\n",
    "<br>\n",
    "\n",
    "- From 2 Sample T-Test , So a p (0.573) > 0.05 (siginificance) , we fail to reject Null Hypothesis (H0).So Mean of total rental bike count on Holiday (holiday_1) is EQUAL to Mean of total rental bike count on Not Holiday (holiday_0) . So __Holiday does not has any effect on Count of total rental bikes__\n"
   ]
  },
  {
   "cell_type": "markdown",
   "id": "a0acada8",
   "metadata": {},
   "source": [
    "## Recommendations :\n",
    "- Weather and Season are significant variables in predicting the count of total rental bike demand in market .\n",
    "- If weather is not good Like say weather = 4 (Heavy Rain + Ice Pallets + Thunderstorm + Mist, Snow + Fog) then ideally and from data also we can see the count of rental bikes is very less . This is expected a in this weather very few people will be using the electric bike.\n",
    "- Working day does not have an impact on total count of rental bikes . So it means that demand of rental bike will not be effected no matter if it is a working day or not.\n",
    "- Similary Holiday does not has any effect on Count of total rental bikes .So it is not a significant variables in predicting the count of total rental bike demand in market .\n",
    "- Based on above insights Company can increase / decrease the frequency of rental bikes based on Weather conditions and Season .\n",
    "- For good weather like Weather Status 1 to 3 they can intoroduce new rental bikes in remote areas .\n",
    "- For bad wether like Heavy Rainfall ( weather status = 4) , they can provide special discount ( like upto 50%) to customers using the bike in this weather . Doing this will not only encourage more customers to use rented bike but will also increase the overall customer base of the company who will be using the rented bike in other weather also .\n",
    "- Company should also try to arrange for special types of bike in Bad Weather Like Bike with overhead shade to protect the customers from rain and a emergency helpline number should we shared with users in case of any help in bad weather .\n",
    "- Another main reason why count of rented bikes is very less in Bad Weather ( Heavy Rain + Ice Pallets + Thunderstorm + Mist, Snow + Fog ) , is that there can be no accessible nearest rental bikes near customer .So based on weather predictions company can make few rental bike availables in some remote location also during the duration of bad weather .\n",
    "- For regular users of rented bike a tier system can be introduecd (Like Silver - Platinum - Gold ) . Most using customers of rented bike will be part of Hier Tier user group and will be given Additional discounts . \n"
   ]
  },
  {
   "cell_type": "code",
   "execution_count": null,
   "id": "d0c278af",
   "metadata": {},
   "outputs": [],
   "source": []
  }
 ],
 "metadata": {
  "kernelspec": {
   "display_name": "Python 3 (ipykernel)",
   "language": "python",
   "name": "python3"
  },
  "language_info": {
   "codemirror_mode": {
    "name": "ipython",
    "version": 3
   },
   "file_extension": ".py",
   "mimetype": "text/x-python",
   "name": "python",
   "nbconvert_exporter": "python",
   "pygments_lexer": "ipython3",
   "version": "3.9.7"
  }
 },
 "nbformat": 4,
 "nbformat_minor": 5
}
